{
 "cells": [
  {
   "cell_type": "code",
   "execution_count": 5,
   "id": "9af12460-aa4e-461e-b22f-e39c410c84ef",
   "metadata": {},
   "outputs": [],
   "source": [
    "import pandas as pd\n",
    "import numpy as np\n",
    "import os\n",
    "import re\n",
    "import io\n",
    "import functools\n",
    "import math\n",
    "from sklearn.cluster import *\n",
    "import matplotlib.pyplot as plt"
   ]
  },
  {
   "cell_type": "code",
   "execution_count": 6,
   "id": "58486ecb-e9e0-4393-ac03-dc36bba27dbb",
   "metadata": {},
   "outputs": [],
   "source": [
    "k = 2\n",
    "l = math.ceil(math.log(k, 2))\n",
    "\n",
    "w = 1000\n",
    "\n",
    "low = 0.02\n",
    "high = 0.95"
   ]
  },
  {
   "cell_type": "code",
   "execution_count": 20,
   "id": "58a62468-7d31-4f31-8fe4-848e0e12dc29",
   "metadata": {},
   "outputs": [],
   "source": [
    "def standardize(word):\n",
    "    word = word.lower()\n",
    "    return word\n",
    "    \n",
    "def create_dict(text_documents):\n",
    "    dictionary = []\n",
    "    for doc in text_documents:\n",
    "        lines = doc.split(\"\\n\")\n",
    "        for line in lines:\n",
    "            words = re.split('[,.;:!? \\t(){}]', line)\n",
    "            for i, word in enumerate(words):\n",
    "                if i >= w:\n",
    "                    break\n",
    "                word = standardize(word)\n",
    "                if word == '':\n",
    "                    continue\n",
    "                if word not in dictionary:\n",
    "                    dictionary.append(word)\n",
    "    return dictionary\n",
    "\n",
    "def text_features_extractor(text):\n",
    "    features = dict(zip(dictionary, np.zeros(len(dictionary), dtype='int')))\n",
    "    keys = features.keys()\n",
    "    lines = text.split(\"\\n\")\n",
    "    for line in lines:\n",
    "        words = re.split('[,.;:!? \\t]', line)\n",
    "        for i, word in enumerate(words):\n",
    "            word = standardize(word)\n",
    "            if word in keys:\n",
    "                features[word] += 1\n",
    "#     r.close()\n",
    "    return list(features.values())"
   ]
  },
  {
   "cell_type": "code",
   "execution_count": 21,
   "id": "2211ffa9-ee13-4f50-ae52-b284898ffdaf",
   "metadata": {},
   "outputs": [],
   "source": [
    "dataset = 'Articles.csv'\n",
    "data = pd.read_csv(dataset)\n",
    "data1 = data.iloc[:100,:]\n",
    "data2 = data.iloc[1800:1900,:]\n",
    "data = pd.concat([data1, data2])\n",
    "dictionary = create_dict(data['Article'])\n",
    "labels = data['NewsType']\n",
    "labels_head = np.unique(labels.to_numpy())\n",
    "num_labels = len(labels_head)"
   ]
  },
  {
   "cell_type": "code",
   "execution_count": 22,
   "id": "b5e70280-5e55-4c72-9c8d-76c485f4b9ac",
   "metadata": {},
   "outputs": [],
   "source": [
    "dataset = 'index_articles.csv'\n",
    "data = pd.read_csv(dataset)\n",
    "dictionary = create_dict(data['content'])\n",
    "labels = data['category']\n",
    "labels_head = np.unique(labels.to_numpy())\n",
    "num_labels = len(labels_head)"
   ]
  },
  {
   "cell_type": "code",
   "execution_count": 23,
   "id": "fe138a94-d8bd-461f-a15b-65c79eeb38dc",
   "metadata": {},
   "outputs": [],
   "source": [
    "# A = data['content'].apply(lambda row: text_features_extractor(row)).values.tolist()\n",
    "# A = np.transpose(A)\n",
    "# # print(A)"
   ]
  },
  {
   "cell_type": "code",
   "execution_count": 24,
   "id": "36c4ffec-d66e-44bc-991c-2ab5162bddec",
   "metadata": {},
   "outputs": [],
   "source": [
    "A = data['content'].apply(lambda row: text_features_extractor(row)).values.tolist()\n",
    "A = np.transpose(A)\n",
    "# # print(A)"
   ]
  },
  {
   "cell_type": "code",
   "execution_count": 25,
   "id": "cb6e63dc-ef4c-4997-b01a-c42cdb4e0117",
   "metadata": {},
   "outputs": [
    {
     "name": "stdout",
     "output_type": "stream",
     "text": [
      "(7454, 64)\n"
     ]
    }
   ],
   "source": [
    "A = np.array(A)\n",
    "print(A.shape)"
   ]
  },
  {
   "cell_type": "code",
   "execution_count": 26,
   "id": "ecd78a48-9f17-427c-bf84-d7135a61e7b8",
   "metadata": {},
   "outputs": [
    {
     "name": "stdout",
     "output_type": "stream",
     "text": [
      "[[1 0 0 ... 0 0 0]\n",
      " [2 0 0 ... 0 0 0]\n",
      " [3 1 2 ... 2 6 2]\n",
      " ...\n",
      " [0 0 0 ... 0 1 0]\n",
      " [0 0 0 ... 1 1 0]\n",
      " [0 0 0 ... 0 1 1]]\n"
     ]
    }
   ],
   "source": [
    "# filtracija A, izbacivanje rijetkih i cestih rijeci\n",
    "df = pd.DataFrame(A)\n",
    "df2 = df.applymap(lambda x: 1 if x != 0 else 0)\n",
    "counts = df2.apply(lambda x: sum(x) / len(labels), axis=1)\n",
    "selected = [low < count < high for count in counts]\n",
    "df = df.loc[selected, :]\n",
    "A = df.to_numpy()\n",
    "print(A)"
   ]
  },
  {
   "cell_type": "code",
   "execution_count": 27,
   "id": "3d8c5cff-fd53-4d2b-bedb-144348a28174",
   "metadata": {},
   "outputs": [
    {
     "name": "stdout",
     "output_type": "stream",
     "text": [
      "(1869, 64)\n"
     ]
    }
   ],
   "source": [
    "print(A.shape)"
   ]
  },
  {
   "cell_type": "code",
   "execution_count": 28,
   "id": "0b39df29-6245-4cb3-81fb-f2789d0a239b",
   "metadata": {},
   "outputs": [],
   "source": [
    "D1_diag = np.sum(A, axis=1)\n",
    "D1 = np.diag(D1_diag)"
   ]
  },
  {
   "cell_type": "code",
   "execution_count": 29,
   "id": "d5d2f7dd-923c-458a-a17d-cdc28e0eb078",
   "metadata": {},
   "outputs": [],
   "source": [
    "D2_diag = np.sum(A, axis=0)\n",
    "D2 = np.diag(D2_diag)"
   ]
  },
  {
   "cell_type": "code",
   "execution_count": 30,
   "id": "65a860e8-ac1d-4cf3-9d6b-0056296dc787",
   "metadata": {},
   "outputs": [],
   "source": [
    "D1_inv = np.diag(list(map(lambda x: 0 if x == 0 else 1/(np.sqrt(x)), D1_diag)))\n",
    "D2_inv = np.diag(list(map(lambda x: 0 if x == 0 else 1/(np.sqrt(x)), D2_diag)))"
   ]
  },
  {
   "cell_type": "code",
   "execution_count": 31,
   "id": "2f093dca-bfc9-49cb-9c32-61f9a1a2f860",
   "metadata": {},
   "outputs": [],
   "source": [
    "An = D1_inv @ A @ D2_inv"
   ]
  },
  {
   "cell_type": "code",
   "execution_count": 32,
   "id": "c6c66a56-e0a6-4fa9-8ac3-01926564e9cd",
   "metadata": {},
   "outputs": [],
   "source": [
    "u, s, vt = np.linalg.svd(An)\n",
    "v = np.transpose(vt)"
   ]
  },
  {
   "cell_type": "code",
   "execution_count": 33,
   "id": "6916f71f-b53e-4990-a62b-464b732f1593",
   "metadata": {},
   "outputs": [
    {
     "name": "stdout",
     "output_type": "stream",
     "text": [
      "(1869, 1)\n",
      "(64, 1)\n"
     ]
    }
   ],
   "source": [
    "U = u[:, 1:(1+l)]\n",
    "V = v[:, 1:(1+l)]\n",
    "print(U.shape)\n",
    "print(V.shape)"
   ]
  },
  {
   "cell_type": "code",
   "execution_count": 34,
   "id": "84bd7431-7f4a-4099-8e72-4f4405396809",
   "metadata": {},
   "outputs": [],
   "source": [
    "Z = np.block([[D1_inv @ U], [D2_inv @ V]])\n",
    "# Z = Z.tolist()\n",
    "# Z = list(map(lambda t: t[0], Z))\n",
    "# # print(Z)\n",
    "# Z = np.array(Z).reshape(-1, 1)"
   ]
  },
  {
   "cell_type": "code",
   "execution_count": 37,
   "id": "a97e6e97-6853-44df-a673-ff50ae1b8542",
   "metadata": {},
   "outputs": [],
   "source": [
    "kmeans = KMeans(init=\"random\", n_clusters=k, n_init=10, max_iter=300, random_state=42)\n",
    "kmeans.fit(Z)\n",
    "predictions = kmeans.predict(Z[-len(labels):])"
   ]
  },
  {
   "cell_type": "code",
   "execution_count": 38,
   "id": "013a9839-b6ff-425c-a760-046264b9280d",
   "metadata": {},
   "outputs": [
    {
     "name": "stdout",
     "output_type": "stream",
     "text": [
      "   sport  vijesti\n",
      "0      0        1\n",
      "1     31       32\n"
     ]
    }
   ],
   "source": [
    "table = np.zeros((k, num_labels), dtype='int')\n",
    "table = pd.DataFrame(table, columns=labels_head)\n",
    "\n",
    "for i, pred in enumerate(predictions):\n",
    "    label = labels.iloc[i]\n",
    "#     print(\"{}-{}\".format(pred, label))\n",
    "    table[label][pred] += 1\n",
    "print(table)"
   ]
  },
  {
   "cell_type": "code",
   "execution_count": null,
   "id": "50660f86-a093-49fc-a522-04269afb5299",
   "metadata": {},
   "outputs": [],
   "source": []
  },
  {
   "cell_type": "code",
   "execution_count": null,
   "id": "25bb71f5-46ee-4335-bd87-5fd9aa87b174",
   "metadata": {},
   "outputs": [],
   "source": []
  }
 ],
 "metadata": {
  "kernelspec": {
   "display_name": "Python 3 (ipykernel)",
   "language": "python",
   "name": "python3"
  },
  "language_info": {
   "codemirror_mode": {
    "name": "ipython",
    "version": 3
   },
   "file_extension": ".py",
   "mimetype": "text/x-python",
   "name": "python",
   "nbconvert_exporter": "python",
   "pygments_lexer": "ipython3",
   "version": "3.7.9"
  }
 },
 "nbformat": 4,
 "nbformat_minor": 5
}
