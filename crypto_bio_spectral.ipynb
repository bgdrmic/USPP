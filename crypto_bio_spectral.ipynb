{
 "cells": [
  {
   "cell_type": "code",
   "execution_count": 1,
   "id": "ad3c6e12",
   "metadata": {},
   "outputs": [],
   "source": [
    "import pandas as pd\n",
    "import numpy as np\n",
    "import os\n",
    "import re\n",
    "import io\n",
    "import functools\n",
    "import math\n",
    "from sklearn.cluster import *\n",
    "import matplotlib.pyplot as plt"
   ]
  },
  {
   "cell_type": "code",
   "execution_count": 6,
   "id": "0c5edad9",
   "metadata": {},
   "outputs": [],
   "source": [
    "def standardize(word):\n",
    "    word = word.lower()\n",
    "    return word\n",
    "    \n",
    "def create_dict(text_documents):\n",
    "    dictionary = []\n",
    "    for doc in text_documents:\n",
    "        lines = doc.split(\"\\n\")\n",
    "        for line in lines:\n",
    "            words = re.split('[,.;:!? \\t(){}]', line)\n",
    "            for i, word in enumerate(words):\n",
    "                if i >= w:\n",
    "                    break\n",
    "                word = standardize(word)\n",
    "                if word == '':\n",
    "                    continue\n",
    "                if word not in dictionary:\n",
    "                    dictionary.append(word)\n",
    "    return dictionary\n",
    "\n",
    "def text_features_extractor(text):\n",
    "    features = dict(zip(dictionary, np.zeros(len(dictionary), dtype='int')))\n",
    "    keys = features.keys()\n",
    "    lines = text.split(\"\\n\")\n",
    "    for line in lines:\n",
    "        words = re.split('[,.;:!? \\t]', line)\n",
    "        for i, word in enumerate(words):\n",
    "            if i >= w:\n",
    "                    break\n",
    "            word = standardize(word)\n",
    "            if word in keys:\n",
    "                features[word] += 1\n",
    "    return list(features.values())"
   ]
  },
  {
   "cell_type": "code",
   "execution_count": 7,
   "id": "d0aadc07",
   "metadata": {},
   "outputs": [],
   "source": [
    "k = 2\n",
    "l = math.ceil(math.log(k, 2))\n",
    "\n",
    "w = 500\n",
    "\n",
    "low = 0.01\n",
    "high = 0.10"
   ]
  },
  {
   "cell_type": "code",
   "execution_count": 18,
   "id": "225f31d1",
   "metadata": {},
   "outputs": [],
   "source": [
    "dataset = 'Articles.csv'\n",
    "data = pd.read_csv(dataset)\n",
    "data1 = data.iloc[:500,:]\n",
    "data2 = data.iloc[1800:2300,:]\n",
    "data = pd.concat([data1, data2])\n",
    "dictionary = create_dict(data['Article'])\n",
    "labels = data['NewsType']\n",
    "labels_head = np.unique(labels.to_numpy())\n",
    "num_labels = len(labels_head)\n",
    "num_articles = 1000"
   ]
  },
  {
   "cell_type": "code",
   "execution_count": 22,
   "id": "ec123a98",
   "metadata": {},
   "outputs": [
    {
     "data": {
      "text/plain": [
       "21053"
      ]
     },
     "execution_count": 22,
     "metadata": {},
     "output_type": "execute_result"
    }
   ],
   "source": [
    "len(dictionary)\n",
    "#dictionary"
   ]
  },
  {
   "cell_type": "code",
   "execution_count": 24,
   "id": "0b17deee",
   "metadata": {
    "scrolled": true
   },
   "outputs": [],
   "source": [
    "#kaggle\n",
    "A = data['Article'].apply(lambda row: text_features_extractor(row)).values.tolist()\n",
    "A = np.transpose(A)\n",
    "# print(A)"
   ]
  },
  {
   "cell_type": "code",
   "execution_count": 25,
   "id": "7dd791ff",
   "metadata": {},
   "outputs": [
    {
     "name": "stdout",
     "output_type": "stream",
     "text": [
      "(21053, 1000)\n"
     ]
    }
   ],
   "source": [
    "A = np.array(A)\n",
    "print(A.shape)"
   ]
  },
  {
   "cell_type": "code",
   "execution_count": 26,
   "id": "f5cf7873",
   "metadata": {},
   "outputs": [],
   "source": [
    "# filtracija A, izbacivanje rijetkih i cestih rijeci\n",
    "df = pd.DataFrame(A)\n",
    "df2 = df.applymap(lambda x: 1 if x != 0 else 0)\n",
    "counts = list(df2.apply(lambda x: sum(x) / len(labels), axis=1))\n",
    "selected = [low < count < high for count in counts]\n",
    "df['words'] = dictionary\n",
    "df = df.loc[selected, :]\n",
    "wordsmap = df['words']\n",
    "wordsmap = wordsmap.reset_index()\n",
    "df = df.drop(['words'], axis = 1)\n",
    "A = df.to_numpy()\n",
    "#print(A)"
   ]
  },
  {
   "cell_type": "code",
   "execution_count": 27,
   "id": "b08de871",
   "metadata": {},
   "outputs": [
    {
     "name": "stdout",
     "output_type": "stream",
     "text": [
      "(2334, 1000)\n"
     ]
    }
   ],
   "source": [
    "print(A.shape)"
   ]
  },
  {
   "cell_type": "code",
   "execution_count": 28,
   "id": "773f8ff7",
   "metadata": {},
   "outputs": [],
   "source": [
    "D1_diag = np.sum(A, axis=1)\n",
    "D1 = np.diag(D1_diag)"
   ]
  },
  {
   "cell_type": "code",
   "execution_count": 29,
   "id": "83ebb046",
   "metadata": {},
   "outputs": [],
   "source": [
    "D2_diag = np.sum(A, axis=0)\n",
    "D2 = np.diag(D2_diag)"
   ]
  },
  {
   "cell_type": "code",
   "execution_count": 30,
   "id": "e73317f9",
   "metadata": {},
   "outputs": [],
   "source": [
    "D1_inv = np.diag(list(map(lambda x: 0 if x == 0 else 1/(np.sqrt(x)), D1_diag)))\n",
    "D2_inv = np.diag(list(map(lambda x: 0 if x == 0 else 1/(np.sqrt(x)), D2_diag)))"
   ]
  },
  {
   "cell_type": "code",
   "execution_count": 31,
   "id": "b1056136",
   "metadata": {},
   "outputs": [],
   "source": [
    "An = D1_inv @ A @ D2_inv"
   ]
  },
  {
   "cell_type": "code",
   "execution_count": 32,
   "id": "22136f62",
   "metadata": {},
   "outputs": [],
   "source": [
    "u, s, vt = np.linalg.svd(An)\n",
    "v = np.transpose(vt)"
   ]
  },
  {
   "cell_type": "code",
   "execution_count": 33,
   "id": "d73d5c63",
   "metadata": {},
   "outputs": [
    {
     "name": "stdout",
     "output_type": "stream",
     "text": [
      "(2334, 1)\n",
      "(1000, 1)\n"
     ]
    }
   ],
   "source": [
    "U = u[:, 1:(1+l)]\n",
    "V = v[:, 1:(1+l)]\n",
    "print(U.shape)\n",
    "print(V.shape)"
   ]
  },
  {
   "cell_type": "code",
   "execution_count": 34,
   "id": "f4599a3e",
   "metadata": {},
   "outputs": [],
   "source": [
    "Z = np.block([[D1_inv @ U], [D2_inv @ V]])\n",
    "# Z = Z.tolist()\n",
    "# Z = list(map(lambda t: t[0], Z))\n",
    "# # print(Z)\n",
    "# Z = np.array(Z).reshape(-1, 1)"
   ]
  },
  {
   "cell_type": "code",
   "execution_count": 35,
   "id": "93c9ab46",
   "metadata": {},
   "outputs": [],
   "source": [
    "kmeans = KMeans(init=\"random\", n_clusters=k, n_init=10, max_iter=300, random_state=42)\n",
    "kmeans.fit(Z)\n",
    "predictions = kmeans.predict(Z)"
   ]
  },
  {
   "cell_type": "code",
   "execution_count": 36,
   "id": "65c5ee2e",
   "metadata": {},
   "outputs": [
    {
     "name": "stdout",
     "output_type": "stream",
     "text": [
      "   business  sports\n",
      "0         5     496\n",
      "1       495       4\n"
     ]
    }
   ],
   "source": [
    "table = np.zeros((k, num_labels), dtype='int')\n",
    "table = pd.DataFrame(table, columns=labels_head)\n",
    "\n",
    "\n",
    "for i, pred in enumerate(predictions[-num_articles:]):\n",
    "    label = labels.iloc[i]\n",
    "#     print(\"{}-{}\".format(pred, label))\n",
    "    table[label][pred] += 1\n",
    "print(table)"
   ]
  },
  {
   "cell_type": "code",
   "execution_count": 37,
   "id": "d1cf3676",
   "metadata": {},
   "outputs": [],
   "source": [
    "predictions_words = predictions[0:-num_articles]\n",
    "predictions_docs = predictions[-num_articles:]"
   ]
  },
  {
   "cell_type": "code",
   "execution_count": 38,
   "id": "f8439e62",
   "metadata": {},
   "outputs": [
    {
     "name": "stdout",
     "output_type": "stream",
     "text": [
      "klaster 0\n",
      "      index    words\n",
      "1873   7662     amir\n",
      "1730   5630      sri\n",
      "1714   5422      her\n",
      "1731   5631    lanka\n",
      "1711   5395     tour\n",
      "2053  11459  wickets\n",
      "561    1135      she\n",
      "1257   2953     goal\n",
      "1174   2663      cup\n",
      "2194  12331   lord´s\n",
      "klaster 1\n",
      "      index    words\n",
      "134     276      yen\n",
      "880    1803      tax\n",
      "485     968  barrels\n",
      "677    1335    power\n",
      "35       81  trading\n",
      "438     872       rs\n",
      "1477   3786        s\n",
      "107     215    index\n",
      "436     869    rates\n",
      "37       85  chinese\n"
     ]
    }
   ],
   "source": [
    "for i in range(k):\n",
    "    print('klaster {}'.format(i))\n",
    "    selected = predictions_docs == i\n",
    "    B = pd.DataFrame(A)\n",
    "    B=B.iloc[:, selected]\n",
    "    B['weight'] = B.sum(axis = 1, skipna = True)\n",
    "    B_sorted = B.sort_values(by='weight', ascending=False)\n",
    "    print(wordsmap.iloc[B_sorted.index[0:10]])"
   ]
  },
  {
   "cell_type": "code",
   "execution_count": 29,
   "id": "08286215",
   "metadata": {},
   "outputs": [
    {
     "data": {
      "text/html": [
       "<div>\n",
       "<style scoped>\n",
       "    .dataframe tbody tr th:only-of-type {\n",
       "        vertical-align: middle;\n",
       "    }\n",
       "\n",
       "    .dataframe tbody tr th {\n",
       "        vertical-align: top;\n",
       "    }\n",
       "\n",
       "    .dataframe thead th {\n",
       "        text-align: right;\n",
       "    }\n",
       "</style>\n",
       "<table border=\"1\" class=\"dataframe\">\n",
       "  <thead>\n",
       "    <tr style=\"text-align: right;\">\n",
       "      <th></th>\n",
       "      <th>index</th>\n",
       "      <th>words</th>\n",
       "    </tr>\n",
       "  </thead>\n",
       "  <tbody>\n",
       "    <tr>\n",
       "      <th>210</th>\n",
       "      <td>1271</td>\n",
       "      <td>his</td>\n",
       "    </tr>\n",
       "    <tr>\n",
       "      <th>154</th>\n",
       "      <td>691</td>\n",
       "      <td>he</td>\n",
       "    </tr>\n",
       "    <tr>\n",
       "      <th>56</th>\n",
       "      <td>234</td>\n",
       "      <td>is</td>\n",
       "    </tr>\n",
       "    <tr>\n",
       "      <th>54</th>\n",
       "      <td>226</td>\n",
       "      <td>from</td>\n",
       "    </tr>\n",
       "    <tr>\n",
       "      <th>42</th>\n",
       "      <td>192</td>\n",
       "      <td>after</td>\n",
       "    </tr>\n",
       "    <tr>\n",
       "      <th>8</th>\n",
       "      <td>29</td>\n",
       "      <td>will</td>\n",
       "    </tr>\n",
       "    <tr>\n",
       "      <th>1</th>\n",
       "      <td>4</td>\n",
       "      <td>has</td>\n",
       "    </tr>\n",
       "    <tr>\n",
       "      <th>96</th>\n",
       "      <td>383</td>\n",
       "      <td>but</td>\n",
       "    </tr>\n",
       "    <tr>\n",
       "      <th>60</th>\n",
       "      <td>254</td>\n",
       "      <td>\"</td>\n",
       "    </tr>\n",
       "    <tr>\n",
       "      <th>88</th>\n",
       "      <td>346</td>\n",
       "      <td>first</td>\n",
       "    </tr>\n",
       "  </tbody>\n",
       "</table>\n",
       "</div>"
      ],
      "text/plain": [
       "     index  words\n",
       "210   1271    his\n",
       "154    691     he\n",
       "56     234     is\n",
       "54     226   from\n",
       "42     192  after\n",
       "8       29   will\n",
       "1        4    has\n",
       "96     383    but\n",
       "60     254      \"\n",
       "88     346  first"
      ]
     },
     "execution_count": 29,
     "metadata": {},
     "output_type": "execute_result"
    }
   ],
   "source": [
    "B = pd.DataFrame(A)\n",
    "B=B.drop(B.columns[predictions_docs==0], axis = 1)\n",
    "B['weight'] = B.sum(axis = 1, skipna = True)\n",
    "B_sorted = B.sort_values(by='weight', ascending=False)\n",
    "wordsmap.iloc[B_sorted.index[0:10]]"
   ]
  },
  {
   "cell_type": "code",
   "execution_count": 30,
   "id": "97020d68",
   "metadata": {},
   "outputs": [
    {
     "data": {
      "text/plain": [
       "array([0, 1, 0, 0, 0, 0, 0, 0, 1, 1, 0, 0, 1, 1, 1, 0, 0, 0, 1, 0, 0, 0,\n",
       "       0, 0, 0, 0, 1, 0, 1, 0, 0, 0, 0, 0, 0, 0, 0, 0, 0, 0, 1, 1, 1, 1,\n",
       "       0, 0, 0, 0, 0, 0, 1, 1, 1, 0, 1, 0, 1, 0, 0, 0, 1, 0, 0, 0, 0, 1,\n",
       "       1, 0, 1, 1, 0, 0, 1, 0, 0, 0, 1, 0, 0, 0, 1, 0, 0, 1, 1, 0, 0, 1,\n",
       "       1, 0, 1, 0, 0, 0, 0, 0, 1, 0, 0, 1, 0, 1, 1, 1, 1, 1, 1, 0, 1, 0,\n",
       "       1, 1, 0, 1, 0, 0, 0, 1, 1, 0, 1, 1, 1, 0, 0, 0, 0, 0, 0, 0, 0, 0,\n",
       "       0, 0, 1, 1, 0, 0, 1, 0, 0, 0, 1, 1, 1, 0, 0, 1, 0, 1, 0, 1, 1, 1,\n",
       "       1, 1, 1, 1, 0, 1, 0, 0, 1, 1, 0, 1, 1, 1, 1, 1, 1, 1, 0, 1, 1, 1,\n",
       "       1, 1, 0, 0, 1, 1, 1, 1, 1, 1, 1, 0, 0, 0, 0, 1, 0, 0, 1, 0, 1, 0,\n",
       "       1, 1, 1, 0, 0, 1, 0, 1, 1, 1, 1, 1, 1, 1, 1, 1, 1, 1, 0, 0, 0, 0,\n",
       "       1, 0, 1, 1, 1, 1, 1, 1, 1, 1, 0, 1, 1, 0, 1, 1, 1, 1, 1, 1, 1, 1,\n",
       "       1, 1, 1, 1, 1, 1, 1, 1, 1, 1, 1, 1, 1, 1, 1, 1, 1, 1, 1, 1, 1, 1,\n",
       "       1, 1, 1, 1])"
      ]
     },
     "execution_count": 30,
     "metadata": {},
     "output_type": "execute_result"
    }
   ],
   "source": [
    "predictions_words"
   ]
  },
  {
   "cell_type": "code",
   "execution_count": 31,
   "id": "dcf32145",
   "metadata": {},
   "outputs": [
    {
     "data": {
      "text/plain": [
       "array([0, 0, 0, 0, 0, 0, 0, 0, 0, 0, 0, 0, 0, 0, 0, 0, 0, 0, 0, 0, 0, 0,\n",
       "       0, 0, 0, 0, 0, 0, 0, 0, 0, 0, 0, 0, 0, 0, 0, 0, 0, 0, 0, 0, 0, 0,\n",
       "       0, 0, 0, 0, 0, 0, 0, 0, 0, 0, 0, 0, 0, 0, 0, 0, 0, 0, 0, 0, 0, 0,\n",
       "       0, 0, 0, 0, 0, 0, 0, 0, 0, 0, 0, 0, 0, 0, 0, 0, 0, 0, 0, 0, 0, 0,\n",
       "       0, 0, 0, 0, 0, 0, 0, 0, 0, 0, 0, 0, 0, 0, 0, 0, 0, 0, 0, 0, 0, 0,\n",
       "       0, 0, 0, 0, 0, 0, 0, 0, 0, 0, 0, 0, 0, 0, 0, 0, 0, 0, 0, 0, 0, 0,\n",
       "       0, 0, 0, 0, 0, 0, 0, 0, 0, 0, 0, 0, 0, 0, 0, 0, 0, 0, 0, 0, 0, 0,\n",
       "       0, 0, 0, 0, 0, 0, 0, 0, 0, 0, 0, 0, 0, 0, 0, 0, 0, 0, 0, 0, 0, 0,\n",
       "       0, 0, 0, 0, 0, 0, 0, 0, 0, 0, 0, 0, 0, 0, 0, 0, 0, 0, 0, 0, 0, 0,\n",
       "       0, 0, 0, 0, 0, 0, 0, 0, 0, 0, 0, 0, 0, 0, 0, 0, 0, 0, 0, 0, 0, 0,\n",
       "       0, 0, 0, 0, 0, 0, 0, 0, 0, 0, 0, 0, 0, 0, 0, 0, 0, 0, 0, 0, 0, 0,\n",
       "       0, 0, 0, 0, 0, 0, 0, 0, 0, 0, 0, 0, 0, 0, 0, 0, 0, 0, 0, 0, 0, 0,\n",
       "       0, 0, 0, 0, 0, 0, 0, 0, 0, 0, 0, 0, 0, 0, 0, 0, 0, 0, 0, 0, 0, 0,\n",
       "       0, 0, 0, 0, 0, 0, 0, 0, 0, 0, 0, 0, 0, 0, 0, 0, 0, 0, 0, 0, 0, 0,\n",
       "       0, 0, 0, 0, 1, 0, 0, 0, 0, 0, 0, 0, 0, 0, 0, 0, 0, 0, 0, 0, 0, 0,\n",
       "       0, 0, 0, 0, 1, 0, 0, 0, 0, 0, 0, 0, 0, 0, 0, 0, 0, 0, 0, 0, 0, 0,\n",
       "       0, 0, 0, 0, 0, 0, 0, 0, 0, 0, 1, 0, 0, 1, 0, 0, 0, 0, 0, 0, 0, 0,\n",
       "       0, 0, 0, 0, 0, 1, 0, 1, 0, 0, 0, 1, 0, 0, 0, 0, 0, 0, 0, 0, 1, 0,\n",
       "       0, 0, 0, 0, 0, 0, 0, 0, 1, 0, 0, 1, 0, 0, 0, 0, 1, 0, 1, 0, 0, 1,\n",
       "       0, 0, 0, 0, 0, 0, 0, 0, 0, 0, 1, 0, 0, 0, 0, 0, 0, 1, 0, 1, 0, 0,\n",
       "       0, 0, 0, 0, 0, 0, 0, 0, 0, 0, 1, 0, 0, 0, 0, 0, 0, 0, 0, 0, 1, 0,\n",
       "       0, 0, 0, 1, 0, 0, 1, 0, 0, 0, 0, 0, 0, 0, 0, 0, 0, 0, 0, 0, 0, 0,\n",
       "       0, 0, 0, 0, 0, 0, 0, 1, 0, 0, 0, 0, 0, 0, 0, 0, 1, 1, 1, 1, 1, 1,\n",
       "       1, 1, 1, 1, 1, 1, 1, 1, 1, 1, 1, 1, 1, 1, 1, 1, 1, 1, 1, 1, 1, 1,\n",
       "       1, 1, 1, 1, 1, 1, 1, 1, 1, 1, 1, 1, 1, 1, 1, 1, 1, 1, 1, 1, 1, 1,\n",
       "       1, 1, 1, 1, 1, 1, 1, 1, 1, 1, 1, 1, 1, 1, 1, 1, 1, 1, 1, 1, 1, 1,\n",
       "       1, 1, 1, 1, 1, 1, 1, 1, 1, 1, 1, 1, 1, 1, 1, 1, 1, 1, 1, 1, 1, 1,\n",
       "       1, 1, 1, 1, 1, 1, 1, 1, 1, 1, 1, 1, 1, 1, 1, 1, 1, 1, 1, 1, 1, 1,\n",
       "       1, 1, 1, 1, 0, 1, 1, 1, 1, 1, 1, 1, 1, 1, 1, 1, 1, 1, 1, 1, 1, 1,\n",
       "       1, 1, 1, 1, 1, 1, 1, 1, 1, 1, 1, 1, 1, 1, 1, 1, 1, 1, 1, 1, 1, 1,\n",
       "       1, 1, 1, 1, 1, 1, 1, 1, 1, 1, 1, 1, 1, 1, 1, 1, 1, 1, 1, 1, 1, 1,\n",
       "       1, 0, 1, 1, 1, 1, 1, 1, 1, 1, 1, 1, 1, 1, 1, 1, 1, 1, 1, 1, 1, 1,\n",
       "       1, 1, 1, 1, 1, 1, 1, 1, 1, 1, 1, 1, 1, 1, 1, 1, 1, 1, 1, 0, 1, 1,\n",
       "       1, 1, 1, 1, 1, 1, 1, 1, 1, 1, 1, 1, 1, 1, 1, 1, 1, 1, 1, 1, 1, 1,\n",
       "       1, 1, 1, 1, 1, 1, 1, 1, 1, 1, 1, 1, 1, 1, 1, 1, 1, 1, 1, 1, 1, 1,\n",
       "       1, 1, 1, 1, 1, 1, 1, 1, 1, 1, 1, 1, 1, 1, 1, 1, 1, 1, 1, 1, 1, 1,\n",
       "       1, 1, 1, 1, 1, 1, 1, 1, 1, 1, 1, 1, 1, 1, 1, 1, 1, 1, 1, 1, 1, 1,\n",
       "       1, 1, 1, 1, 1, 1, 1, 1, 1, 1, 1, 1, 1, 1, 1, 1, 1, 1, 1, 1, 1, 1,\n",
       "       1, 1, 1, 1, 1, 1, 1, 1, 1, 1, 1, 1, 1, 1, 1, 1, 1, 1, 1, 1, 1, 1,\n",
       "       1, 1, 1, 1, 1, 1, 1, 1, 1, 1, 1, 1, 1, 1, 1, 1, 1, 1, 1, 1, 1, 1,\n",
       "       1, 1, 1, 1, 1, 1, 1, 1, 1, 1, 1, 1, 1, 1, 1, 1, 1, 1, 1, 1, 1, 1,\n",
       "       1, 1, 1, 1, 1, 1, 1, 1, 1, 1, 1, 1, 1, 1, 1, 1, 1, 1, 1, 1, 1, 1,\n",
       "       1, 0, 1, 1, 1, 1, 1, 1, 1, 1, 1, 1, 1, 1, 1, 1, 1, 1, 1, 1, 1, 1,\n",
       "       1, 1, 1, 1, 1, 1, 1, 1, 1, 1, 1, 1, 1, 1, 1, 1, 1, 1, 1, 1, 1, 1,\n",
       "       1, 1, 1, 1, 1, 1, 1, 1, 1, 1, 1, 1, 1, 1, 1, 1, 1, 1, 1, 1, 1, 1,\n",
       "       1, 1, 1, 1, 1, 1, 1, 1, 1, 1])"
      ]
     },
     "execution_count": 31,
     "metadata": {},
     "output_type": "execute_result"
    }
   ],
   "source": [
    "predictions_docs"
   ]
  },
  {
   "cell_type": "code",
   "execution_count": 68,
   "id": "3277c770",
   "metadata": {},
   "outputs": [
    {
     "data": {
      "image/png": "[encoded data removed]",
      "text/plain": [
       "<Figure size 720x360 with 1 Axes>"
      ]
     },
     "metadata": {
      "needs_background": "light"
     },
     "output_type": "display_data"
    }
   ],
   "source": [
    "fig = plt.figure(figsize=(10, 5))\n",
    "plt.title(\"BBC pocetak kmeans\")\n",
    "labels2 = labels.to_numpy()\n",
    "first = labels2[labels2=='business']\n",
    "plt.scatter(Z[-num_articles:-num_articles+len(first)], np.zeros(len(first)), color='blue')\n",
    "plt.scatter(Z[-num_articles+len(first):], np.zeros(num_articles-len(first)), color='red')\n",
    "fig.legend(['business', 'sport'])\n",
    "# if len(pred_false) > 0:\n",
    "#     plt.scatter(pred_false[:,0], pred_false[:, 1], color='red')\n",
    "plt.savefig('BBC.png')\n",
    "plt.show()"
   ]
  },
  {
   "cell_type": "code",
   "execution_count": null,
   "id": "2a2ab8e2-ba27-4666-a08d-192cb04c2efe",
   "metadata": {},
   "outputs": [],
   "source": [
    "plt.figure(figsize=(30, 15))\n",
    "plt.title(\"BBC particije\")\n",
    "labels2 = predictions_docs.to_numpy()\n",
    "first = predictions_docs[predictions_docs==1]\n",
    "plt.scatter(Z[-num_articles:-num_articles+len(first)], np.zeros(len(first)), color='blue')\n",
    "plt.scatter(Z[-num_articles+len(first):], np.zeros(num_articles-len(first)), color='red')\n",
    "# if len(pred_false) > 0:\n",
    "#     plt.scatter(pred_false[:,0], pred_false[:, 1], color='red')\n",
    "plt.savefig( '/' + 'activations - predicted.png')\n",
    "plt.show()"
   ]
  },
  {
   "cell_type": "code",
   "execution_count": 60,
   "id": "61385ee9-63e6-4429-946d-a154c53198c7",
   "metadata": {},
   "outputs": [
    {
     "data": {
      "text/plain": [
       "array(['business', 'business', 'business', 'business', 'business',\n",
       "       'business', 'business', 'business', 'business', 'business',\n",
       "       'business', 'business', 'business', 'business', 'business',\n",
       "       'business', 'business', 'business', 'business', 'business',\n",
       "       'business', 'business', 'business', 'business', 'business',\n",
       "       'business', 'business', 'business', 'business', 'business',\n",
       "       'business', 'business', 'business', 'business', 'business',\n",
       "       'business', 'business', 'business', 'business', 'business',\n",
       "       'business', 'business', 'business', 'business', 'business',\n",
       "       'business', 'business', 'business', 'business', 'business',\n",
       "       'business', 'business', 'business', 'business', 'business',\n",
       "       'business', 'business', 'business', 'business', 'business',\n",
       "       'business', 'business', 'business', 'business', 'business',\n",
       "       'business', 'business', 'business', 'business', 'business',\n",
       "       'business', 'business', 'business', 'business', 'business',\n",
       "       'business', 'business', 'business', 'business', 'business',\n",
       "       'business', 'business', 'business', 'business', 'business',\n",
       "       'business', 'business', 'business', 'business', 'business',\n",
       "       'business', 'business', 'business', 'business', 'business',\n",
       "       'business', 'business', 'business', 'business', 'business',\n",
       "       'business', 'business', 'business', 'business', 'business',\n",
       "       'business', 'business', 'business', 'business', 'business',\n",
       "       'business', 'business', 'business', 'business', 'business',\n",
       "       'business', 'business', 'business', 'business', 'business',\n",
       "       'business', 'business', 'business', 'business', 'business',\n",
       "       'business', 'business', 'business', 'business', 'business',\n",
       "       'business', 'business', 'business', 'business', 'business',\n",
       "       'business', 'business', 'business', 'business', 'business',\n",
       "       'business', 'business', 'business', 'business', 'business',\n",
       "       'business', 'business', 'business', 'business', 'business',\n",
       "       'business', 'business', 'business', 'business', 'business',\n",
       "       'business', 'business', 'business', 'business', 'business',\n",
       "       'business', 'business', 'business', 'business', 'business',\n",
       "       'business', 'business', 'business', 'business', 'business',\n",
       "       'business', 'business', 'business', 'business', 'business',\n",
       "       'business', 'business', 'business', 'business', 'business',\n",
       "       'business', 'business', 'business', 'business', 'business',\n",
       "       'business', 'business', 'business', 'business', 'business',\n",
       "       'business', 'business', 'business', 'business', 'business',\n",
       "       'business', 'business', 'business', 'business', 'business',\n",
       "       'business', 'business', 'business', 'business', 'business',\n",
       "       'business', 'business', 'business', 'business', 'business',\n",
       "       'business', 'business', 'business', 'business', 'business',\n",
       "       'business', 'business', 'business', 'business', 'business',\n",
       "       'business', 'business', 'business', 'business', 'business',\n",
       "       'business', 'business', 'business', 'business', 'business',\n",
       "       'business', 'business', 'business', 'business', 'business',\n",
       "       'business', 'business', 'business', 'business', 'business',\n",
       "       'business', 'business', 'business', 'business', 'business',\n",
       "       'business', 'business', 'business', 'business', 'business',\n",
       "       'business', 'business', 'business', 'business', 'business',\n",
       "       'business', 'business', 'business', 'business', 'business',\n",
       "       'business', 'business', 'business', 'business', 'business',\n",
       "       'business', 'business', 'business', 'business', 'business',\n",
       "       'business', 'business', 'business', 'business', 'business',\n",
       "       'business', 'business', 'business', 'business', 'business',\n",
       "       'business', 'business', 'business', 'business', 'business',\n",
       "       'business', 'business', 'business', 'business', 'business',\n",
       "       'business', 'business', 'business', 'business', 'business',\n",
       "       'business', 'business', 'business', 'business', 'business',\n",
       "       'business', 'business', 'business', 'business', 'business',\n",
       "       'business', 'business', 'business', 'business', 'business',\n",
       "       'business', 'business', 'business', 'business', 'business',\n",
       "       'business', 'business', 'business', 'business', 'business',\n",
       "       'business', 'business', 'business', 'business', 'business',\n",
       "       'business', 'business', 'business', 'business', 'business',\n",
       "       'business', 'business', 'business', 'business', 'business',\n",
       "       'business', 'business', 'business', 'business', 'business',\n",
       "       'business', 'business', 'business', 'business', 'business',\n",
       "       'business', 'business', 'business', 'business', 'business',\n",
       "       'business', 'business', 'business', 'business', 'business',\n",
       "       'business', 'business', 'business', 'business', 'business',\n",
       "       'business', 'business', 'business', 'business', 'business',\n",
       "       'business', 'business', 'business', 'business', 'business',\n",
       "       'business', 'business', 'business', 'business', 'business',\n",
       "       'business', 'business', 'business', 'business', 'business',\n",
       "       'business', 'business', 'business', 'business', 'business',\n",
       "       'business', 'business', 'business', 'business', 'business',\n",
       "       'business', 'business', 'business', 'business', 'business',\n",
       "       'business', 'business', 'business', 'business', 'business',\n",
       "       'business', 'business', 'business', 'business', 'business',\n",
       "       'business', 'business', 'business', 'business', 'business',\n",
       "       'business', 'business', 'business', 'business', 'business',\n",
       "       'business', 'business', 'business', 'business', 'business',\n",
       "       'business', 'business', 'business', 'business', 'business',\n",
       "       'business', 'business', 'business', 'business', 'business',\n",
       "       'business', 'business', 'business', 'business', 'business',\n",
       "       'business', 'business', 'business', 'business', 'business',\n",
       "       'business', 'business', 'business', 'business', 'business',\n",
       "       'business', 'business', 'business', 'business', 'business',\n",
       "       'business', 'business', 'business', 'business', 'business',\n",
       "       'business', 'business', 'business', 'business', 'business',\n",
       "       'business', 'business', 'business', 'business', 'business',\n",
       "       'business', 'business', 'business', 'business', 'business',\n",
       "       'business', 'business', 'business', 'business', 'business',\n",
       "       'business', 'business', 'business', 'business', 'business',\n",
       "       'business', 'business', 'business', 'business', 'business',\n",
       "       'business', 'business', 'business', 'business', 'business',\n",
       "       'business', 'business', 'business', 'business', 'business',\n",
       "       'business', 'business', 'business', 'business', 'business',\n",
       "       'sports', 'sports', 'sports', 'sports', 'sports', 'sports',\n",
       "       'sports', 'sports', 'sports', 'sports', 'sports', 'sports',\n",
       "       'sports', 'sports', 'sports', 'sports', 'sports', 'sports',\n",
       "       'sports', 'sports', 'sports', 'sports', 'sports', 'sports',\n",
       "       'sports', 'sports', 'sports', 'sports', 'sports', 'sports',\n",
       "       'sports', 'sports', 'sports', 'sports', 'sports', 'sports',\n",
       "       'sports', 'sports', 'sports', 'sports', 'sports', 'sports',\n",
       "       'sports', 'sports', 'sports', 'sports', 'sports', 'sports',\n",
       "       'sports', 'sports', 'sports', 'sports', 'sports', 'sports',\n",
       "       'sports', 'sports', 'sports', 'sports', 'sports', 'sports',\n",
       "       'sports', 'sports', 'sports', 'sports', 'sports', 'sports',\n",
       "       'sports', 'sports', 'sports', 'sports', 'sports', 'sports',\n",
       "       'sports', 'sports', 'sports', 'sports', 'sports', 'sports',\n",
       "       'sports', 'sports', 'sports', 'sports', 'sports', 'sports',\n",
       "       'sports', 'sports', 'sports', 'sports', 'sports', 'sports',\n",
       "       'sports', 'sports', 'sports', 'sports', 'sports', 'sports',\n",
       "       'sports', 'sports', 'sports', 'sports', 'sports', 'sports',\n",
       "       'sports', 'sports', 'sports', 'sports', 'sports', 'sports',\n",
       "       'sports', 'sports', 'sports', 'sports', 'sports', 'sports',\n",
       "       'sports', 'sports', 'sports', 'sports', 'sports', 'sports',\n",
       "       'sports', 'sports', 'sports', 'sports', 'sports', 'sports',\n",
       "       'sports', 'sports', 'sports', 'sports', 'sports', 'sports',\n",
       "       'sports', 'sports', 'sports', 'sports', 'sports', 'sports',\n",
       "       'sports', 'sports', 'sports', 'sports', 'sports', 'sports',\n",
       "       'sports', 'sports', 'sports', 'sports', 'sports', 'sports',\n",
       "       'sports', 'sports', 'sports', 'sports', 'sports', 'sports',\n",
       "       'sports', 'sports', 'sports', 'sports', 'sports', 'sports',\n",
       "       'sports', 'sports', 'sports', 'sports', 'sports', 'sports',\n",
       "       'sports', 'sports', 'sports', 'sports', 'sports', 'sports',\n",
       "       'sports', 'sports', 'sports', 'sports', 'sports', 'sports',\n",
       "       'sports', 'sports', 'sports', 'sports', 'sports', 'sports',\n",
       "       'sports', 'sports', 'sports', 'sports', 'sports', 'sports',\n",
       "       'sports', 'sports', 'sports', 'sports', 'sports', 'sports',\n",
       "       'sports', 'sports', 'sports', 'sports', 'sports', 'sports',\n",
       "       'sports', 'sports', 'sports', 'sports', 'sports', 'sports',\n",
       "       'sports', 'sports', 'sports', 'sports', 'sports', 'sports',\n",
       "       'sports', 'sports', 'sports', 'sports', 'sports', 'sports',\n",
       "       'sports', 'sports', 'sports', 'sports', 'sports', 'sports',\n",
       "       'sports', 'sports', 'sports', 'sports', 'sports', 'sports',\n",
       "       'sports', 'sports', 'sports', 'sports', 'sports', 'sports',\n",
       "       'sports', 'sports', 'sports', 'sports', 'sports', 'sports',\n",
       "       'sports', 'sports', 'sports', 'sports', 'sports', 'sports',\n",
       "       'sports', 'sports', 'sports', 'sports', 'sports', 'sports',\n",
       "       'sports', 'sports', 'sports', 'sports', 'sports', 'sports',\n",
       "       'sports', 'sports', 'sports', 'sports', 'sports', 'sports',\n",
       "       'sports', 'sports', 'sports', 'sports', 'sports', 'sports',\n",
       "       'sports', 'sports', 'sports', 'sports', 'sports', 'sports',\n",
       "       'sports', 'sports', 'sports', 'sports', 'sports', 'sports',\n",
       "       'sports', 'sports', 'sports', 'sports', 'sports', 'sports',\n",
       "       'sports', 'sports', 'sports', 'sports', 'sports', 'sports',\n",
       "       'sports', 'sports', 'sports', 'sports', 'sports', 'sports',\n",
       "       'sports', 'sports', 'sports', 'sports', 'sports', 'sports',\n",
       "       'sports', 'sports', 'sports', 'sports', 'sports', 'sports',\n",
       "       'sports', 'sports', 'sports', 'sports', 'sports', 'sports',\n",
       "       'sports', 'sports', 'sports', 'sports', 'sports', 'sports',\n",
       "       'sports', 'sports', 'sports', 'sports', 'sports', 'sports',\n",
       "       'sports', 'sports', 'sports', 'sports', 'sports', 'sports',\n",
       "       'sports', 'sports', 'sports', 'sports', 'sports', 'sports',\n",
       "       'sports', 'sports', 'sports', 'sports', 'sports', 'sports',\n",
       "       'sports', 'sports', 'sports', 'sports', 'sports', 'sports',\n",
       "       'sports', 'sports', 'sports', 'sports', 'sports', 'sports',\n",
       "       'sports', 'sports', 'sports', 'sports', 'sports', 'sports',\n",
       "       'sports', 'sports', 'sports', 'sports', 'sports', 'sports',\n",
       "       'sports', 'sports', 'sports', 'sports', 'sports', 'sports',\n",
       "       'sports', 'sports', 'sports', 'sports', 'sports', 'sports',\n",
       "       'sports', 'sports', 'sports', 'sports', 'sports', 'sports',\n",
       "       'sports', 'sports', 'sports', 'sports', 'sports', 'sports',\n",
       "       'sports', 'sports', 'sports', 'sports', 'sports', 'sports',\n",
       "       'sports', 'sports', 'sports', 'sports', 'sports', 'sports',\n",
       "       'sports', 'sports', 'sports', 'sports', 'sports', 'sports',\n",
       "       'sports', 'sports', 'sports', 'sports', 'sports', 'sports',\n",
       "       'sports', 'sports', 'sports', 'sports', 'sports', 'sports',\n",
       "       'sports', 'sports', 'sports', 'sports', 'sports', 'sports',\n",
       "       'sports', 'sports', 'sports', 'sports', 'sports', 'sports',\n",
       "       'sports', 'sports', 'sports', 'sports', 'sports', 'sports',\n",
       "       'sports', 'sports', 'sports', 'sports', 'sports', 'sports',\n",
       "       'sports', 'sports', 'sports', 'sports', 'sports', 'sports',\n",
       "       'sports', 'sports', 'sports', 'sports', 'sports', 'sports',\n",
       "       'sports', 'sports', 'sports', 'sports', 'sports', 'sports',\n",
       "       'sports', 'sports', 'sports', 'sports', 'sports', 'sports',\n",
       "       'sports', 'sports', 'sports', 'sports', 'sports', 'sports',\n",
       "       'sports', 'sports', 'sports', 'sports', 'sports', 'sports',\n",
       "       'sports', 'sports', 'sports', 'sports', 'sports', 'sports',\n",
       "       'sports', 'sports'], dtype=object)"
      ]
     },
     "execution_count": 60,
     "metadata": {},
     "output_type": "execute_result"
    }
   ],
   "source": [
    "labels2"
   ]
  },
  {
   "cell_type": "code",
   "execution_count": 53,
   "id": "9c4aac1d",
   "metadata": {},
   "outputs": [
    {
     "ename": "TypeError",
     "evalue": "ufunc 'isnan' not supported for the input types, and the inputs could not be safely coerced to any supported types according to the casting rule ''safe''",
     "output_type": "error",
     "traceback": [
      "\u001b[1;31m---------------------------------------------------------------------------\u001b[0m",
      "\u001b[1;31mTypeError\u001b[0m                                 Traceback (most recent call last)",
      "\u001b[1;32m~\\AppData\\Local\\Temp/ipykernel_15724/437566592.py\u001b[0m in \u001b[0;36m<module>\u001b[1;34m\u001b[0m\n\u001b[0;32m      5\u001b[0m \u001b[0mplt\u001b[0m\u001b[1;33m.\u001b[0m\u001b[0mtitle\u001b[0m\u001b[1;33m(\u001b[0m\u001b[1;34m\"activations - last layer - blue=predicted true\"\u001b[0m\u001b[1;33m)\u001b[0m\u001b[1;33m\u001b[0m\u001b[1;33m\u001b[0m\u001b[0m\n\u001b[0;32m      6\u001b[0m \u001b[0mfirst\u001b[0m \u001b[1;33m=\u001b[0m \u001b[0mlabels\u001b[0m\u001b[1;33m[\u001b[0m\u001b[0mlabels\u001b[0m\u001b[1;33m==\u001b[0m\u001b[1;36m1\u001b[0m\u001b[1;33m]\u001b[0m\u001b[1;33m\u001b[0m\u001b[1;33m\u001b[0m\u001b[0m\n\u001b[1;32m----> 7\u001b[1;33m \u001b[0mplt\u001b[0m\u001b[1;33m.\u001b[0m\u001b[0mscatter\u001b[0m\u001b[1;33m(\u001b[0m\u001b[0mZ\u001b[0m\u001b[1;33m[\u001b[0m\u001b[1;33m-\u001b[0m\u001b[0mnum_articles\u001b[0m\u001b[1;33m:\u001b[0m\u001b[1;33m]\u001b[0m\u001b[1;33m,\u001b[0m \u001b[0mnp\u001b[0m\u001b[1;33m.\u001b[0m\u001b[0mzeros\u001b[0m\u001b[1;33m(\u001b[0m\u001b[0mnum_articles\u001b[0m\u001b[1;33m)\u001b[0m\u001b[1;33m,\u001b[0m \u001b[0mcolors\u001b[0m\u001b[1;33m=\u001b[0m\u001b[0mcmap\u001b[0m\u001b[1;33m(\u001b[0m\u001b[0mlabels\u001b[0m\u001b[1;33m)\u001b[0m\u001b[1;33m)\u001b[0m\u001b[1;33m\u001b[0m\u001b[1;33m\u001b[0m\u001b[0m\n\u001b[0m\u001b[0;32m      8\u001b[0m \u001b[1;31m# if len(pred_false) > 0:\u001b[0m\u001b[1;33m\u001b[0m\u001b[1;33m\u001b[0m\u001b[0m\n\u001b[0;32m      9\u001b[0m \u001b[1;31m#     plt.scatter(pred_false[:,0], pred_false[:, 1], color='red')\u001b[0m\u001b[1;33m\u001b[0m\u001b[1;33m\u001b[0m\u001b[0m\n",
      "\u001b[1;32m~\\AppData\\Local\\Programs\\Python\\Python39\\lib\\site-packages\\matplotlib\\colors.py\u001b[0m in \u001b[0;36m__call__\u001b[1;34m(self, X, alpha, bytes)\u001b[0m\n\u001b[0;32m    612\u001b[0m             \u001b[0mself\u001b[0m\u001b[1;33m.\u001b[0m\u001b[0m_init\u001b[0m\u001b[1;33m(\u001b[0m\u001b[1;33m)\u001b[0m\u001b[1;33m\u001b[0m\u001b[1;33m\u001b[0m\u001b[0m\n\u001b[0;32m    613\u001b[0m \u001b[1;33m\u001b[0m\u001b[0m\n\u001b[1;32m--> 614\u001b[1;33m         \u001b[0mmask_bad\u001b[0m \u001b[1;33m=\u001b[0m \u001b[0mX\u001b[0m\u001b[1;33m.\u001b[0m\u001b[0mmask\u001b[0m \u001b[1;32mif\u001b[0m \u001b[0mnp\u001b[0m\u001b[1;33m.\u001b[0m\u001b[0mma\u001b[0m\u001b[1;33m.\u001b[0m\u001b[0mis_masked\u001b[0m\u001b[1;33m(\u001b[0m\u001b[0mX\u001b[0m\u001b[1;33m)\u001b[0m \u001b[1;32melse\u001b[0m \u001b[0mnp\u001b[0m\u001b[1;33m.\u001b[0m\u001b[0misnan\u001b[0m\u001b[1;33m(\u001b[0m\u001b[0mX\u001b[0m\u001b[1;33m)\u001b[0m  \u001b[1;31m# Mask nan's.\u001b[0m\u001b[1;33m\u001b[0m\u001b[1;33m\u001b[0m\u001b[0m\n\u001b[0m\u001b[0;32m    615\u001b[0m         \u001b[0mxa\u001b[0m \u001b[1;33m=\u001b[0m \u001b[0mnp\u001b[0m\u001b[1;33m.\u001b[0m\u001b[0marray\u001b[0m\u001b[1;33m(\u001b[0m\u001b[0mX\u001b[0m\u001b[1;33m,\u001b[0m \u001b[0mcopy\u001b[0m\u001b[1;33m=\u001b[0m\u001b[1;32mTrue\u001b[0m\u001b[1;33m)\u001b[0m\u001b[1;33m\u001b[0m\u001b[1;33m\u001b[0m\u001b[0m\n\u001b[0;32m    616\u001b[0m         \u001b[1;32mif\u001b[0m \u001b[1;32mnot\u001b[0m \u001b[0mxa\u001b[0m\u001b[1;33m.\u001b[0m\u001b[0mdtype\u001b[0m\u001b[1;33m.\u001b[0m\u001b[0misnative\u001b[0m\u001b[1;33m:\u001b[0m\u001b[1;33m\u001b[0m\u001b[1;33m\u001b[0m\u001b[0m\n",
      "\u001b[1;32m~\\AppData\\Local\\Programs\\Python\\Python39\\lib\\site-packages\\pandas\\core\\generic.py\u001b[0m in \u001b[0;36m__array_ufunc__\u001b[1;34m(self, ufunc, method, *inputs, **kwargs)\u001b[0m\n\u001b[0;32m   2030\u001b[0m         \u001b[0mself\u001b[0m\u001b[1;33m,\u001b[0m \u001b[0mufunc\u001b[0m\u001b[1;33m:\u001b[0m \u001b[0mnp\u001b[0m\u001b[1;33m.\u001b[0m\u001b[0mufunc\u001b[0m\u001b[1;33m,\u001b[0m \u001b[0mmethod\u001b[0m\u001b[1;33m:\u001b[0m \u001b[0mstr\u001b[0m\u001b[1;33m,\u001b[0m \u001b[1;33m*\u001b[0m\u001b[0minputs\u001b[0m\u001b[1;33m:\u001b[0m \u001b[0mAny\u001b[0m\u001b[1;33m,\u001b[0m \u001b[1;33m**\u001b[0m\u001b[0mkwargs\u001b[0m\u001b[1;33m:\u001b[0m \u001b[0mAny\u001b[0m\u001b[1;33m\u001b[0m\u001b[1;33m\u001b[0m\u001b[0m\n\u001b[0;32m   2031\u001b[0m     ):\n\u001b[1;32m-> 2032\u001b[1;33m         \u001b[1;32mreturn\u001b[0m \u001b[0marraylike\u001b[0m\u001b[1;33m.\u001b[0m\u001b[0marray_ufunc\u001b[0m\u001b[1;33m(\u001b[0m\u001b[0mself\u001b[0m\u001b[1;33m,\u001b[0m \u001b[0mufunc\u001b[0m\u001b[1;33m,\u001b[0m \u001b[0mmethod\u001b[0m\u001b[1;33m,\u001b[0m \u001b[1;33m*\u001b[0m\u001b[0minputs\u001b[0m\u001b[1;33m,\u001b[0m \u001b[1;33m**\u001b[0m\u001b[0mkwargs\u001b[0m\u001b[1;33m)\u001b[0m\u001b[1;33m\u001b[0m\u001b[1;33m\u001b[0m\u001b[0m\n\u001b[0m\u001b[0;32m   2033\u001b[0m \u001b[1;33m\u001b[0m\u001b[0m\n\u001b[0;32m   2034\u001b[0m     \u001b[1;31m# ideally we would define this to avoid the getattr checks, but\u001b[0m\u001b[1;33m\u001b[0m\u001b[1;33m\u001b[0m\u001b[0m\n",
      "\u001b[1;32m~\\AppData\\Local\\Programs\\Python\\Python39\\lib\\site-packages\\pandas\\core\\arraylike.py\u001b[0m in \u001b[0;36marray_ufunc\u001b[1;34m(self, ufunc, method, *inputs, **kwargs)\u001b[0m\n\u001b[0;32m    362\u001b[0m         \u001b[1;31m# ufunc(series, ...)\u001b[0m\u001b[1;33m\u001b[0m\u001b[1;33m\u001b[0m\u001b[0m\n\u001b[0;32m    363\u001b[0m         \u001b[0minputs\u001b[0m \u001b[1;33m=\u001b[0m \u001b[0mtuple\u001b[0m\u001b[1;33m(\u001b[0m\u001b[0mextract_array\u001b[0m\u001b[1;33m(\u001b[0m\u001b[0mx\u001b[0m\u001b[1;33m,\u001b[0m \u001b[0mextract_numpy\u001b[0m\u001b[1;33m=\u001b[0m\u001b[1;32mTrue\u001b[0m\u001b[1;33m)\u001b[0m \u001b[1;32mfor\u001b[0m \u001b[0mx\u001b[0m \u001b[1;32min\u001b[0m \u001b[0minputs\u001b[0m\u001b[1;33m)\u001b[0m\u001b[1;33m\u001b[0m\u001b[1;33m\u001b[0m\u001b[0m\n\u001b[1;32m--> 364\u001b[1;33m         \u001b[0mresult\u001b[0m \u001b[1;33m=\u001b[0m \u001b[0mgetattr\u001b[0m\u001b[1;33m(\u001b[0m\u001b[0mufunc\u001b[0m\u001b[1;33m,\u001b[0m \u001b[0mmethod\u001b[0m\u001b[1;33m)\u001b[0m\u001b[1;33m(\u001b[0m\u001b[1;33m*\u001b[0m\u001b[0minputs\u001b[0m\u001b[1;33m,\u001b[0m \u001b[1;33m**\u001b[0m\u001b[0mkwargs\u001b[0m\u001b[1;33m)\u001b[0m\u001b[1;33m\u001b[0m\u001b[1;33m\u001b[0m\u001b[0m\n\u001b[0m\u001b[0;32m    365\u001b[0m     \u001b[1;32melse\u001b[0m\u001b[1;33m:\u001b[0m\u001b[1;33m\u001b[0m\u001b[1;33m\u001b[0m\u001b[0m\n\u001b[0;32m    366\u001b[0m         \u001b[1;31m# ufunc(dataframe)\u001b[0m\u001b[1;33m\u001b[0m\u001b[1;33m\u001b[0m\u001b[0m\n",
      "\u001b[1;31mTypeError\u001b[0m: ufunc 'isnan' not supported for the input types, and the inputs could not be safely coerced to any supported types according to the casting rule ''safe''"
     ]
    },
    {
     "data": {
      "image/png": "[encoded data removed]",
      "text/plain": [
       "<Figure size 2160x1080 with 1 Axes>"
      ]
     },
     "metadata": {
      "needs_background": "light"
     },
     "output_type": "display_data"
    }
   ],
   "source": [
    "\n",
    "import matplotlib.cm as cm\n",
    "cmap = cm.get_cmap(name='rainbow')\n",
    "\n",
    "plt.figure(figsize=(30, 15))\n",
    "plt.title(\"activations - last layer - blue=predicted true\")\n",
    "first = labels[labels==1]\n",
    "plt.scatter(Z[-num_articles:], np.zeros(num_articles), colors=cmap(labels))\n",
    "# if len(pred_false) > 0:\n",
    "#     plt.scatter(pred_false[:,0], pred_false[:, 1], color='red')\n",
    "# plt.savefig(folder + '/' + 'activations - predicted.png')\n",
    "plt.show()"
   ]
  },
  {
   "cell_type": "code",
   "execution_count": null,
   "id": "051f4ef0",
   "metadata": {},
   "outputs": [],
   "source": []
  }
 ],
 "metadata": {
  "kernelspec": {
   "display_name": "Python 3 (ipykernel)",
   "language": "python",
   "name": "python3"
  },
  "language_info": {
   "codemirror_mode": {
    "name": "ipython",
    "version": 3
   },
   "file_extension": ".py",
   "mimetype": "text/x-python",
   "name": "python",
   "nbconvert_exporter": "python",
   "pygments_lexer": "ipython3",
   "version": "3.9.7"
  }
 },
 "nbformat": 4,
 "nbformat_minor": 5
}
