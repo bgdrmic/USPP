{
 "cells": [
  {
   "cell_type": "code",
   "execution_count": 93,
   "id": "9b890721-4d7f-41e2-aa4f-6145b299fcd5",
   "metadata": {},
   "outputs": [],
   "source": [
    "import pandas as pd\n",
    "import numpy as np\n",
    "import urllib.request,sys,time\n",
    "import requests\n",
    "from bs4 import BeautifulSoup\n",
    "import os\n",
    "import re\n",
    "from lxml import *\n",
    "from functools import *"
   ]
  },
  {
   "cell_type": "code",
   "execution_count": 94,
   "id": "ebbb0123-6f09-46e0-9a0d-5f587a2f7f95",
   "metadata": {},
   "outputs": [],
   "source": [
    "base_url = 'https://web.archive.org/web/20210719095244/https://www.index.hr/'\n",
    "categories = ['vijesti', 'sport', 'magazin']\n",
    "categories_url = [base_url + '/' + cat for cat in categories]"
   ]
  },
  {
   "cell_type": "code",
   "execution_count": 95,
   "id": "43050b28-cc74-4879-a947-79f19f226ce6",
   "metadata": {},
   "outputs": [],
   "source": [
    "articles = np.array([])\n",
    "\n",
    "for cat in categories:\n",
    "    url = base_url + '/' + cat\n",
    "    home_page = requests.get(url).content\n",
    "    soup = BeautifulSoup(home_page)\n",
    "    cat_articles = soup.find_all('a', class_= cat + '-text-hover scale-img-hover')\n",
    "    cat_articles = np.array(['https://web.archive.org' + news['href'] for news in cat_articles])\n",
    "    articles = np.concatenate([articles, cat_articles], axis = 0)\n",
    "\n",
    "articles = np.unique(articles)"
   ]
  },
  {
   "cell_type": "code",
   "execution_count": 96,
   "id": "784ccb48-47c1-429d-bb6c-1e9cb40bfa79",
   "metadata": {},
   "outputs": [],
   "source": [
    "def read_article(url):\n",
    "    url_groups = re.search('.*index.hr/(.*)/clanak/(.*)/.*aspx', url)\n",
    "    title = url_groups.group(2)\n",
    "    category = url_groups.group(1)\n",
    "    \n",
    "    soup = BeautifulSoup(requests.get(url).content)\n",
    "    content = soup.find_all('div', class_= 'text ' + category + '-link-underline')\n",
    "    elements = []\n",
    "    for div in content:\n",
    "        div_elements = div.find_all(['p', 'h1', 'h2', 'h3', 'h4', 'h5', 'h6'])\n",
    "        elements += div_elements\n",
    "    elements = [elem.text for elem in elements]\n",
    "    if len(elements) == 0:\n",
    "        print(url)\n",
    "        content = ''\n",
    "    else:\n",
    "        content = reduce(lambda s1, s2: s1 + '\\n' + s2, elements)\n",
    "    return [url, title, content, category]"
   ]
  },
  {
   "cell_type": "code",
   "execution_count": 97,
   "id": "f45ac847-7286-455c-8d53-190ab2abc9f7",
   "metadata": {
    "tags": []
   },
   "outputs": [],
   "source": [
    "records = list(map(read_article, articles))"
   ]
  },
  {
   "cell_type": "code",
   "execution_count": 98,
   "id": "18344494-79cc-4070-88ac-cd95c09e91c6",
   "metadata": {},
   "outputs": [],
   "source": [
    "dataset = pd.DataFrame.from_records(records, columns = ['url', 'title', 'content', 'category'])\n",
    "dataset = dataset.sort_values(by=['title'])"
   ]
  },
  {
   "cell_type": "code",
   "execution_count": 99,
   "id": "7d39c99e-5377-44ec-b8ac-ffdf57ac30fa",
   "metadata": {},
   "outputs": [],
   "source": [
    "dataset.to_csv('index_articles6.csv', index=False)"
   ]
  },
  {
   "cell_type": "code",
   "execution_count": null,
   "id": "6a95b74e-e1a0-4232-95a8-f3a9b0eed9d2",
   "metadata": {},
   "outputs": [],
   "source": []
  }
 ],
 "metadata": {
  "kernelspec": {
   "display_name": "Python 3 (ipykernel)",
   "language": "python",
   "name": "python3"
  },
  "language_info": {
   "codemirror_mode": {
    "name": "ipython",
    "version": 3
   },
   "file_extension": ".py",
   "mimetype": "text/x-python",
   "name": "python",
   "nbconvert_exporter": "python",
   "pygments_lexer": "ipython3",
   "version": "3.7.9"
  }
 },
 "nbformat": 4,
 "nbformat_minor": 5
}
