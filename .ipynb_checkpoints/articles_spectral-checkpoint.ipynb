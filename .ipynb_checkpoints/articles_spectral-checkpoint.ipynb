{
 "cells": [
  {
   "cell_type": "code",
   "execution_count": 197,
   "id": "11fdf852",
   "metadata": {},
   "outputs": [],
   "source": [
    "import pandas as pd\n",
    "import numpy as np\n",
    "import os\n",
    "import re\n",
    "import io\n",
    "import functools\n",
    "import math\n",
    "from sklearn.cluster import *\n",
    "import matplotlib.pyplot as plt"
   ]
  },
  {
   "cell_type": "code",
   "execution_count": 340,
   "id": "0782f4c7",
   "metadata": {},
   "outputs": [],
   "source": [
    "k = 4\n",
    "l = math.ceil(math.log(k, 2))\n",
    "\n",
    "w = 500\n",
    "\n",
    "low = 0.01\n",
    "high = 0.05"
   ]
  },
  {
   "cell_type": "code",
   "execution_count": 314,
   "id": "b03b876d",
   "metadata": {},
   "outputs": [],
   "source": [
    "def standardize(word):\n",
    "    word = word.lower()\n",
    "    return word\n",
    "    \n",
    "def create_dict(text_documents):\n",
    "    dictionary = []\n",
    "    for doc in text_documents:\n",
    "        lines = doc.split(\"\\n\")\n",
    "        for line in lines:\n",
    "            words = re.split('[,.;:!? \\t(){}]', line)\n",
    "            for i, word in enumerate(words):\n",
    "                if i >= w:\n",
    "                    break\n",
    "                word = standardize(word)\n",
    "                if word == '':\n",
    "                    continue\n",
    "                if word not in dictionary:\n",
    "                    dictionary.append(word)\n",
    "    return dictionary\n",
    "\n",
    "def text_features_extractor(text):\n",
    "    features = dict(zip(dictionary, np.zeros(len(dictionary), dtype='int')))\n",
    "    keys = features.keys()\n",
    "    lines = text.split(\"\\n\")\n",
    "    for line in lines:\n",
    "        words = re.split('[,.;:!? \\t]', line)\n",
    "        for i, word in enumerate(words):\n",
    "            if i >= w:\n",
    "                    break\n",
    "            word = standardize(word)\n",
    "            if word in keys:\n",
    "                features[word] += 1\n",
    "    return list(features.values())"
   ]
  },
  {
   "cell_type": "code",
   "execution_count": 315,
   "id": "8b4b46c2",
   "metadata": {},
   "outputs": [],
   "source": [
    "category_names = ['crypto', 'travel', 'cooking', 'robotics']\n",
    "data = None\n",
    "for name in category_names:\n",
    "    new = pd.read_csv('input/' + name + '.csv').iloc[:300, :]\n",
    "    new['Labels'] = np.full(new.shape[0], name)\n",
    "    if data is None:\n",
    "        data = new\n",
    "    else:\n",
    "        data = pd.concat([data, new], axis=0)"
   ]
  },
  {
   "cell_type": "code",
   "execution_count": 316,
   "id": "8c0b2c58-09a2-4e1a-86e6-de2c2cc930ee",
   "metadata": {},
   "outputs": [],
   "source": [
    "import regex as re\n",
    "import string\n",
    "from nltk.corpus import stopwords\n",
    "from nltk.tokenize import word_tokenize\n",
    "from nltk.stem import WordNetLemmatizer\n",
    "from sklearn.feature_extraction.text import TfidfVectorizer\n",
    "\n"
   ]
  },
  {
   "cell_type": "code",
   "execution_count": 317,
   "id": "849bb562-1394-439e-8800-5a34857b9ed2",
   "metadata": {},
   "outputs": [
    {
     "name": "stderr",
     "output_type": "stream",
     "text": [
      "[nltk_data] Downloading package stopwords to\n",
      "[nltk_data]     C:\\Users\\38595\\AppData\\Roaming\\nltk_data...\n",
      "[nltk_data]   Package stopwords is already up-to-date!\n"
     ]
    },
    {
     "data": {
      "text/plain": [
       "True"
      ]
     },
     "execution_count": 317,
     "metadata": {},
     "output_type": "execute_result"
    }
   ],
   "source": [
    "import nltk\n",
    "nltk.download('stopwords')"
   ]
  },
  {
   "cell_type": "code",
   "execution_count": 318,
   "id": "e1c7eb06-f121-4743-a937-35a6e34fba24",
   "metadata": {},
   "outputs": [],
   "source": [
    "stops = set(stopwords.words(\"english\"))"
   ]
  },
  {
   "cell_type": "code",
   "execution_count": 319,
   "id": "7088565b-0cc3-45d6-85ae-904a4177bfd3",
   "metadata": {},
   "outputs": [],
   "source": [
    "def clean_content(table):\n",
    "    content = table.content\n",
    "    #Converting text to lowercase characters\n",
    "    content = content.apply(lambda x: x.lower())\n",
    "    #Removing HTML tags\n",
    "    content = content.apply(lambda x: re.sub(r'\\<[^<>]*\\>','',x))\n",
    "    #Removing any character which does not match to letter,digit or underscore\n",
    "    content = content.apply(lambda x: re.sub(r'^\\W+|\\W+$',' ',x))\n",
    "    #Removing space,newline,tab\n",
    "    content = content.apply(lambda x: re.sub(r'\\s',' ',x))\n",
    "    #Removing punctuation\n",
    "    content = content.apply(lambda x: re.sub(r'[^a-zA-Z0-9]',' ',x))\n",
    "    #Tokenizing data\n",
    "    #content = content.apply(lambda x: word_tokenize(x))\n",
    "    #Removing stopwords\n",
    "    #content = content.apply(lambda x: [i for i in x if i not in stops])\n",
    "    return(content)\n",
    "\n",
    "data['content'] = clean_content(data) "
   ]
  },
  {
   "cell_type": "code",
   "execution_count": 320,
   "id": "f81eb555-5ac0-4bf9-b78d-4a0e34ed5471",
   "metadata": {},
   "outputs": [],
   "source": [
    "num_articles = data.shape[0]\n",
    "num_labels = data['Labels'].nunique()\n",
    "labels = data['Labels']\n",
    "labels_head = np.unique(labels.to_numpy())\n",
    "\n",
    "def identity_tokenizer(text):\n",
    "  return text\n",
    "#vect = TfidfVectorizer(tokenizer=identity_tokenizer, lowercase=False)\n",
    "#A = vect.fit_transform(data['content'].values)"
   ]
  },
  {
   "cell_type": "code",
   "execution_count": 321,
   "id": "c350ed92",
   "metadata": {},
   "outputs": [],
   "source": [
    "num_articles = data.shape[0]\n",
    "num_labels = data['Labels'].nunique()\n",
    "labels = data['Labels']\n",
    "labels_head = np.unique(labels.to_numpy())\n",
    "dictionary = create_dict(data['content'])"
   ]
  },
  {
   "cell_type": "code",
   "execution_count": 322,
   "id": "d1f267da",
   "metadata": {},
   "outputs": [],
   "source": [
    "#A = np.transpose(A.A)"
   ]
  },
  {
   "cell_type": "code",
   "execution_count": 323,
   "id": "6cb882b3",
   "metadata": {},
   "outputs": [
    {
     "data": {
      "text/plain": [
       "1200"
      ]
     },
     "execution_count": 323,
     "metadata": {},
     "output_type": "execute_result"
    }
   ],
   "source": [
    "len(data)"
   ]
  },
  {
   "cell_type": "code",
   "execution_count": 324,
   "id": "5f53a753",
   "metadata": {},
   "outputs": [
    {
     "data": {
      "text/plain": [
       "9521"
      ]
     },
     "execution_count": 324,
     "metadata": {},
     "output_type": "execute_result"
    }
   ],
   "source": [
    "len(dictionary)\n",
    "#dictionary"
   ]
  },
  {
   "cell_type": "code",
   "execution_count": 325,
   "id": "f96fc203",
   "metadata": {
    "scrolled": true
   },
   "outputs": [],
   "source": [
    "#index\n",
    "A = data['content'].apply(lambda row: text_features_extractor(row)).values.tolist()\n",
    "A = np.transpose(A)\n",
    "# print(A)"
   ]
  },
  {
   "cell_type": "code",
   "execution_count": 326,
   "id": "0eecea30",
   "metadata": {},
   "outputs": [
    {
     "name": "stdout",
     "output_type": "stream",
     "text": [
      "(9521, 1200)\n"
     ]
    }
   ],
   "source": [
    "A = np.array(A)\n",
    "print(A.shape)"
   ]
  },
  {
   "cell_type": "code",
   "execution_count": 327,
   "id": "28afba46",
   "metadata": {},
   "outputs": [],
   "source": [
    "# filtracija A, izbacivanje rijetkih i cestih rijeci\n",
    "df = pd.DataFrame(A)\n",
    "df2 = df.applymap(lambda x: 1 if x != 0 else 0)\n",
    "counts = list(df2.apply(lambda x: sum(x) / len(labels), axis=1))\n",
    "selected = [low < count < high for count in counts]\n",
    "df['words'] = dictionary\n",
    "df = df.loc[selected, :]\n",
    "wordsmap = df['words']\n",
    "wordsmap = wordsmap.reset_index()\n",
    "df = df.drop(['words'], axis = 1)\n",
    "A = df.to_numpy()\n",
    "#print(A)"
   ]
  },
  {
   "cell_type": "code",
   "execution_count": 341,
   "id": "6cec677f",
   "metadata": {},
   "outputs": [],
   "source": [
    "D1_diag = np.sum(A, axis=1)\n",
    "D1 = np.diag(D1_diag)"
   ]
  },
  {
   "cell_type": "code",
   "execution_count": 342,
   "id": "ac6b36a2",
   "metadata": {},
   "outputs": [],
   "source": [
    "D2_diag = np.sum(A, axis=0)\n",
    "D2 = np.diag(D2_diag)"
   ]
  },
  {
   "cell_type": "code",
   "execution_count": 343,
   "id": "938f9749",
   "metadata": {},
   "outputs": [],
   "source": [
    "D1_inv = np.diag(list(map(lambda x: 0 if x == 0 else 1/(np.sqrt(x)), D1_diag)))\n",
    "D2_inv = np.diag(list(map(lambda x: 0 if x == 0 else 1/(np.sqrt(x)), D2_diag)))"
   ]
  },
  {
   "cell_type": "code",
   "execution_count": 344,
   "id": "abef8dc6",
   "metadata": {},
   "outputs": [],
   "source": [
    "An = D1_inv @ A @ D2_inv"
   ]
  },
  {
   "cell_type": "code",
   "execution_count": 345,
   "id": "6a4d6036",
   "metadata": {},
   "outputs": [],
   "source": [
    "u, s, vt = np.linalg.svd(An)\n",
    "v = np.transpose(vt)"
   ]
  },
  {
   "cell_type": "code",
   "execution_count": 346,
   "id": "982c939e",
   "metadata": {},
   "outputs": [
    {
     "name": "stdout",
     "output_type": "stream",
     "text": [
      "(728, 2)\n",
      "(1200, 2)\n"
     ]
    }
   ],
   "source": [
    "U = u[:, 1:(1+l)]\n",
    "V = v[:, 1:(1+l)]\n",
    "print(U.shape)\n",
    "print(V.shape)"
   ]
  },
  {
   "cell_type": "code",
   "execution_count": 347,
   "id": "cc6a0b94",
   "metadata": {},
   "outputs": [],
   "source": [
    "Z = np.block([[D1_inv @ U], [D2_inv @ V]])\n",
    "# Z = Z.tolist()\n",
    "# Z = list(map(lambda t: t[0], Z))\n",
    "# # print(Z)\n",
    "# Z = np.array(Z).reshape(-1, 1)"
   ]
  },
  {
   "cell_type": "code",
   "execution_count": 348,
   "id": "8b47907f",
   "metadata": {},
   "outputs": [],
   "source": [
    "kmeans = KMeans(init=\"random\", n_clusters=k, n_init=10, max_iter=300, random_state=42)\n",
    "kmeans.fit(Z)\n",
    "predictions = kmeans.predict(Z)"
   ]
  },
  {
   "cell_type": "code",
   "execution_count": 349,
   "id": "cf47c68e",
   "metadata": {},
   "outputs": [
    {
     "name": "stdout",
     "output_type": "stream",
     "text": [
      "   cooking  crypto  robotics  travel\n",
      "0        3     230         2       0\n",
      "1       58      61       136      71\n",
      "2        0       7       161       4\n",
      "3      239       2         1     225\n"
     ]
    }
   ],
   "source": [
    "table = np.zeros((k, num_labels), dtype='int')\n",
    "table = pd.DataFrame(table, columns=labels_head)\n",
    "\n",
    "\n",
    "for i, pred in enumerate(predictions[-num_articles:]):\n",
    "    label = labels.iloc[i]\n",
    "#     print(\"{}-{}\".format(pred, label))\n",
    "    table[label][pred] += 1\n",
    "print(table)"
   ]
  },
  {
   "cell_type": "code",
   "execution_count": 350,
   "id": "33e03259",
   "metadata": {},
   "outputs": [],
   "source": [
    "predictions_words = predictions[0:-num_articles]\n",
    "predictions_docs = predictions[-num_articles:]"
   ]
  },
  {
   "cell_type": "code",
   "execution_count": 351,
   "id": "8420f04a",
   "metadata": {},
   "outputs": [
    {
     "name": "stdout",
     "output_type": "stream",
     "text": [
      "klaster 0\n",
      "     index     words\n",
      "14      62      hash\n",
      "5       32         n\n",
      "185    527         k\n",
      "28     113    cipher\n",
      "78     239         g\n",
      "72     227       aes\n",
      "396   1221         x\n",
      "7       38   message\n",
      "17      76  function\n",
      "179    507         c\n",
      "klaster 1\n",
      "     index     words\n",
      "716   7274    robots\n",
      "551   2323     build\n",
      "522   2011   program\n",
      "233    650     point\n",
      "489   1709      line\n",
      "305    894       set\n",
      "714   7266  robotics\n",
      "386   1192     might\n",
      "42     142      code\n",
      "426   1366       far\n",
      "klaster 2\n",
      "     index    words\n",
      "164    478        0\n",
      "396   1221        x\n",
      "718   7315    motor\n",
      "515   1972      amp\n",
      "531   2102  control\n",
      "709   7225   motors\n",
      "469   1602        y\n",
      "710   7226   servos\n",
      "713   7244    servo\n",
      "720   7383   torque\n",
      "klaster 3\n",
      "     index      words\n",
      "637   4023       visa\n",
      "636   4012     travel\n",
      "626   3947       trip\n",
      "205    594         us\n",
      "690   5941    cooking\n",
      "487   1694      visit\n",
      "696   5960     recipe\n",
      "618   3641    country\n",
      "121    346      heard\n",
      "641   4041  countries\n"
     ]
    }
   ],
   "source": [
    "for i in range(k):\n",
    "    print('klaster {}'.format(i))\n",
    "    selected = predictions_docs == i\n",
    "    B = pd.DataFrame(A)\n",
    "    B=B.iloc[:, selected]\n",
    "    B['weight'] = B.sum(axis = 1, skipna = True)\n",
    "    B_sorted = B.sort_values(by='weight', ascending=False)\n",
    "    print(wordsmap.iloc[B_sorted.index[0:10]])"
   ]
  },
  {
   "cell_type": "code",
   "execution_count": 358,
   "id": "7ccf8d72-92e5-4eb2-9f19-1772f31c1e65",
   "metadata": {},
   "outputs": [
    {
     "data": {
      "image/png": "[encoded data removed]",
      "text/plain": [
       "<Figure size 1080x720 with 1 Axes>"
      ]
     },
     "metadata": {
      "needs_background": "light"
     },
     "output_type": "display_data"
    }
   ],
   "source": [
    "fig = plt.figure(figsize=(15, 10))\n",
    "plt.title(\"Kaggle pocetak kmeans\")\n",
    "labels2 = labels.to_numpy()\n",
    "first = labels2[labels2=='crypto']\n",
    "plt.scatter(Z[-num_articles:-num_articles+len(first), 0], Z[-num_articles:-num_articles+len(first), 1], color='blue')\n",
    "second = labels2[labels2=='travel']\n",
    "plt.scatter(Z[-num_articles+len(first):-num_articles+len(first)+len(second), 0], Z[-num_articles+len(first):-num_articles+len(first)+len(second), 1], color='red')\n",
    "third = labels2[labels2=='cooking']\n",
    "plt.scatter(Z[-num_articles+len(first)+len(second):-num_articles+len(first)+len(second)+len(third), 0], Z[-num_articles+len(first)+len(second):-num_articles+len(first)+len(second)+len(third), 1], color='green')\n",
    "plt.scatter(Z[-num_articles+len(first)+len(second)+len(third):, 0], Z[-num_articles+len(first)+len(second)+len(third):, 1], color='purple')\n",
    "# plt.scatter(Z[-num_articles:-num_articles+len(first), :], color='blue')\n",
    "# plt.scatter(Z[-num_articles+len(first):, :], np.zeros(num_articles-len(first)), color='red')\n",
    "fig.legend(['crypto', 'travel', 'cooking', 'robotics'])\n",
    "# if len(pred_false) > 0:\n",
    "#     plt.scatter(pred_false[:,0], pred_false[:, 1], color='red')\n",
    "plt.savefig('kaggle.png')\n",
    "plt.show()"
   ]
  },
  {
   "cell_type": "code",
   "execution_count": 353,
   "id": "8807cfe0-02f8-4578-a564-099d321849ca",
   "metadata": {},
   "outputs": [
    {
     "data": {
      "text/plain": [
       "0        crypto\n",
       "1        crypto\n",
       "2        crypto\n",
       "3        crypto\n",
       "4        crypto\n",
       "         ...   \n",
       "295    robotics\n",
       "296    robotics\n",
       "297    robotics\n",
       "298    robotics\n",
       "299    robotics\n",
       "Name: Labels, Length: 1200, dtype: object"
      ]
     },
     "execution_count": 353,
     "metadata": {},
     "output_type": "execute_result"
    }
   ],
   "source": [
    "labels"
   ]
  },
  {
   "cell_type": "code",
   "execution_count": null,
   "id": "d102391f-2237-4820-ab9b-c47c7b1ea4dc",
   "metadata": {},
   "outputs": [],
   "source": []
  }
 ],
 "metadata": {
  "kernelspec": {
   "display_name": "Python 3 (ipykernel)",
   "language": "python",
   "name": "python3"
  },
  "language_info": {
   "codemirror_mode": {
    "name": "ipython",
    "version": 3
   },
   "file_extension": ".py",
   "mimetype": "text/x-python",
   "name": "python",
   "nbconvert_exporter": "python",
   "pygments_lexer": "ipython3",
   "version": "3.9.7"
  }
 },
 "nbformat": 4,
 "nbformat_minor": 5
}
