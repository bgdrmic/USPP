{
 "cells": [
  {
   "cell_type": "code",
   "execution_count": 271,
   "id": "9e31c951",
   "metadata": {},
   "outputs": [],
   "source": [
    "import pandas as pd\n",
    "import numpy as np\n",
    "import os\n",
    "import re\n",
    "import io\n",
    "import functools\n",
    "import math\n",
    "from sklearn.cluster import *\n",
    "import matplotlib.pyplot as plt"
   ]
  },
  {
   "cell_type": "code",
   "execution_count": 301,
   "id": "8a404e6b",
   "metadata": {},
   "outputs": [],
   "source": [
    "k = 3\n",
    "l = math.ceil(math.log(k, 2))\n",
    "\n",
    "w = 500\n",
    "\n",
    "low = 0.01\n",
    "high = 0.10"
   ]
  },
  {
   "cell_type": "code",
   "execution_count": 273,
   "id": "18025d29",
   "metadata": {},
   "outputs": [],
   "source": [
    "def standardize(word):\n",
    "    word = word.lower()\n",
    "    return word\n",
    "    \n",
    "def create_dict(text_documents):\n",
    "    dictionary = []\n",
    "    for doc in text_documents:\n",
    "        lines = doc.split(\"\\n\")\n",
    "        for line in lines:\n",
    "            words = re.split('[<>\"-\\\\/\\[\\]}{|_,.;:!? \\t(){}]', line)\n",
    "            for i, word in enumerate(words):\n",
    "                if i >= w:\n",
    "                    break\n",
    "                word = standardize(word)\n",
    "                if word == '':\n",
    "                    continue\n",
    "                if word not in dictionary:\n",
    "                    dictionary.append(word)\n",
    "    return dictionary\n",
    "\n",
    "def text_features_extractor(text):\n",
    "    features = dict(zip(dictionary, np.zeros(len(dictionary), dtype='int')))\n",
    "    keys = features.keys()\n",
    "    lines = text.split(\"\\n\")\n",
    "    for line in lines:\n",
    "        words = re.split('[,.;:!? \\t]', line)\n",
    "        for i, word in enumerate(words):\n",
    "            if i >= w:\n",
    "                    break\n",
    "            word = standardize(word)\n",
    "            if word in keys:\n",
    "                features[word] += 1\n",
    "    return list(features.values())"
   ]
  },
  {
   "cell_type": "code",
   "execution_count": 274,
   "id": "17d21e58",
   "metadata": {},
   "outputs": [],
   "source": [
    "category_names = ['vijesti', 'sport', 'magazin']\n",
    "dataset = 'modified.csv'\n",
    "data = pd.read_csv(dataset)\n",
    "num_articles = data.shape[0]\n",
    "num_labels = data['category'].nunique()\n",
    "labels = data['category']\n",
    "labels_head = np.unique(labels.to_numpy())\n",
    "dictionary = create_dict(data['modified'])"
   ]
  },
  {
   "cell_type": "code",
   "execution_count": 275,
   "id": "69af2bbd",
   "metadata": {},
   "outputs": [
    {
     "data": {
      "text/html": [
       "<div>\n",
       "<style scoped>\n",
       "    .dataframe tbody tr th:only-of-type {\n",
       "        vertical-align: middle;\n",
       "    }\n",
       "\n",
       "    .dataframe tbody tr th {\n",
       "        vertical-align: top;\n",
       "    }\n",
       "\n",
       "    .dataframe thead th {\n",
       "        text-align: right;\n",
       "    }\n",
       "</style>\n",
       "<table border=\"1\" class=\"dataframe\">\n",
       "  <thead>\n",
       "    <tr style=\"text-align: right;\">\n",
       "      <th></th>\n",
       "      <th>url</th>\n",
       "      <th>title</th>\n",
       "      <th>content</th>\n",
       "      <th>category</th>\n",
       "      <th>modified</th>\n",
       "    </tr>\n",
       "  </thead>\n",
       "  <tbody>\n",
       "    <tr>\n",
       "      <th>0</th>\n",
       "      <td>http://index.hr/magazin/clanak/be-proud-be-pow...</td>\n",
       "      <td>be-proud-be-powerful-be-pink</td>\n",
       "      <td>ESSENCE pokreće kampanju brenda koja, između o...</td>\n",
       "      <td>magazin</td>\n",
       "      <td>kampànja brȇnda vȅčēr prihvaća rje násīlje ȁs1...</td>\n",
       "    </tr>\n",
       "    <tr>\n",
       "      <th>1</th>\n",
       "      <td>http://index.hr/magazin/clanak/bebek-1986-otis...</td>\n",
       "      <td>bebek-1986-otisao-sam-iz-dugmeta-jer-je-bregov...</td>\n",
       "      <td>GLAZBENIK Željko Bebek jučer je proslavio 76. ...</td>\n",
       "      <td>magazin</td>\n",
       "      <td>eb rȍđendān suràdnja ugopa njègov intèrvjū gȍd...</td>\n",
       "    </tr>\n",
       "    <tr>\n",
       "      <th>2</th>\n",
       "      <td>http://index.hr/magazin/clanak/beslagic-trola-...</td>\n",
       "      <td>beslagic-trola-politicare-ovo-su-tri-konstitut...</td>\n",
       "      <td>ENIS Bešlagić je na Instagramu objavio video s...</td>\n",
       "      <td>magazin</td>\n",
       "      <td>ešl nstag vȋdeo jed ožićn Pȃd švéma tróla polì...</td>\n",
       "    </tr>\n",
       "    <tr>\n",
       "      <th>3</th>\n",
       "      <td>http://index.hr/magazin/clanak/cedo-komljenovi...</td>\n",
       "      <td>cedo-komljenovic-decko-iz-karlovca-koji-je-ost...</td>\n",
       "      <td>DANAS je u Milanu u 83. godini umro Čedo Komlj...</td>\n",
       "      <td>magazin</td>\n",
       "      <td>il gȍdina čȅdo omlje on ha pȍduzētnīk mènadžer...</td>\n",
       "    </tr>\n",
       "    <tr>\n",
       "      <th>4</th>\n",
       "      <td>http://index.hr/magazin/clanak/ekipa-sa-stojed...</td>\n",
       "      <td>ekipa-sa-stojedinice-pokrece-novi-radio-da-je-...</td>\n",
       "      <td>PRESTANAK emitiranja programa Radija 101 ostav...</td>\n",
       "      <td>magazin</td>\n",
       "      <td>emiti prògram ad praznìna éter tojed póstojānj...</td>\n",
       "    </tr>\n",
       "    <tr>\n",
       "      <th>...</th>\n",
       "      <td>...</td>\n",
       "      <td>...</td>\n",
       "      <td>...</td>\n",
       "      <td>...</td>\n",
       "      <td>...</td>\n",
       "    </tr>\n",
       "    <tr>\n",
       "      <th>485</th>\n",
       "      <td>https://web.archive.org/web/20210719095306/htt...</td>\n",
       "      <td>umro-danski-karikaturist-poznat-po-crtezu-pror...</td>\n",
       "      <td>DANSKI karikaturist Kurt Westergaard, slavan z...</td>\n",
       "      <td>vijesti</td>\n",
       "      <td>karikatùrist urt ester zbog kar uha nȅrēd zèml...</td>\n",
       "    </tr>\n",
       "    <tr>\n",
       "      <th>486</th>\n",
       "      <td>https://web.archive.org/web/20210719095306/htt...</td>\n",
       "      <td>vandjelic-iz-ministarstva-nije-dosla-nijedna-o...</td>\n",
       "      <td>RAVNATELJ Fonda za obnovu Damir Vanđelić izjav...</td>\n",
       "      <td>vijesti</td>\n",
       "      <td>ȍbnova ámir ȃnđeo ond ȍbnova sȁv dȍk2 pròces d...</td>\n",
       "    </tr>\n",
       "    <tr>\n",
       "      <th>487</th>\n",
       "      <td>https://web.archive.org/web/20210719095306/htt...</td>\n",
       "      <td>video-u-beogradu-se-djelomicno-urusila-stamben...</td>\n",
       "      <td>DANAS se u beogradskom naselju Vračar djelomič...</td>\n",
       "      <td>vijesti</td>\n",
       "      <td>násēlje rȁca zgrȁda mȇdīj kȁt1 stànār idovdans...</td>\n",
       "    </tr>\n",
       "    <tr>\n",
       "      <th>488</th>\n",
       "      <td>https://web.archive.org/web/20210719095306/htt...</td>\n",
       "      <td>vujcic-opet-imamo-stari-problem-nedostaje-kval...</td>\n",
       "      <td>GUVERNER Hrvatske narodne banke (HNB) Boris Vu...</td>\n",
       "      <td>vijesti</td>\n",
       "      <td>rva bànka   òris ȕjāk ubrov da tròmjesēčje stò...</td>\n",
       "    </tr>\n",
       "    <tr>\n",
       "      <th>489</th>\n",
       "      <td>https://web.archive.org/web/20210719095306/htt...</td>\n",
       "      <td>znanstvenici-o-laucu-tvrdnja-da-je-bolje-prebo...</td>\n",
       "      <td>NEDAVNA objava molekularnog biologa Gordana La...</td>\n",
       "      <td>vijesti</td>\n",
       "      <td>ȍbjava biòlog ord au reàkcija krìtika Hẕvātskā...</td>\n",
       "    </tr>\n",
       "  </tbody>\n",
       "</table>\n",
       "<p>490 rows × 5 columns</p>\n",
       "</div>"
      ],
      "text/plain": [
       "                                                   url  \\\n",
       "0    http://index.hr/magazin/clanak/be-proud-be-pow...   \n",
       "1    http://index.hr/magazin/clanak/bebek-1986-otis...   \n",
       "2    http://index.hr/magazin/clanak/beslagic-trola-...   \n",
       "3    http://index.hr/magazin/clanak/cedo-komljenovi...   \n",
       "4    http://index.hr/magazin/clanak/ekipa-sa-stojed...   \n",
       "..                                                 ...   \n",
       "485  https://web.archive.org/web/20210719095306/htt...   \n",
       "486  https://web.archive.org/web/20210719095306/htt...   \n",
       "487  https://web.archive.org/web/20210719095306/htt...   \n",
       "488  https://web.archive.org/web/20210719095306/htt...   \n",
       "489  https://web.archive.org/web/20210719095306/htt...   \n",
       "\n",
       "                                                 title  \\\n",
       "0                         be-proud-be-powerful-be-pink   \n",
       "1    bebek-1986-otisao-sam-iz-dugmeta-jer-je-bregov...   \n",
       "2    beslagic-trola-politicare-ovo-su-tri-konstitut...   \n",
       "3    cedo-komljenovic-decko-iz-karlovca-koji-je-ost...   \n",
       "4    ekipa-sa-stojedinice-pokrece-novi-radio-da-je-...   \n",
       "..                                                 ...   \n",
       "485  umro-danski-karikaturist-poznat-po-crtezu-pror...   \n",
       "486  vandjelic-iz-ministarstva-nije-dosla-nijedna-o...   \n",
       "487  video-u-beogradu-se-djelomicno-urusila-stamben...   \n",
       "488  vujcic-opet-imamo-stari-problem-nedostaje-kval...   \n",
       "489  znanstvenici-o-laucu-tvrdnja-da-je-bolje-prebo...   \n",
       "\n",
       "                                               content category  \\\n",
       "0    ESSENCE pokreće kampanju brenda koja, između o...  magazin   \n",
       "1    GLAZBENIK Željko Bebek jučer je proslavio 76. ...  magazin   \n",
       "2    ENIS Bešlagić je na Instagramu objavio video s...  magazin   \n",
       "3    DANAS je u Milanu u 83. godini umro Čedo Komlj...  magazin   \n",
       "4    PRESTANAK emitiranja programa Radija 101 ostav...  magazin   \n",
       "..                                                 ...      ...   \n",
       "485  DANSKI karikaturist Kurt Westergaard, slavan z...  vijesti   \n",
       "486  RAVNATELJ Fonda za obnovu Damir Vanđelić izjav...  vijesti   \n",
       "487  DANAS se u beogradskom naselju Vračar djelomič...  vijesti   \n",
       "488  GUVERNER Hrvatske narodne banke (HNB) Boris Vu...  vijesti   \n",
       "489  NEDAVNA objava molekularnog biologa Gordana La...  vijesti   \n",
       "\n",
       "                                              modified  \n",
       "0    kampànja brȇnda vȅčēr prihvaća rje násīlje ȁs1...  \n",
       "1    eb rȍđendān suràdnja ugopa njègov intèrvjū gȍd...  \n",
       "2    ešl nstag vȋdeo jed ožićn Pȃd švéma tróla polì...  \n",
       "3    il gȍdina čȅdo omlje on ha pȍduzētnīk mènadžer...  \n",
       "4    emiti prògram ad praznìna éter tojed póstojānj...  \n",
       "..                                                 ...  \n",
       "485  karikatùrist urt ester zbog kar uha nȅrēd zèml...  \n",
       "486  ȍbnova ámir ȃnđeo ond ȍbnova sȁv dȍk2 pròces d...  \n",
       "487  násēlje rȁca zgrȁda mȇdīj kȁt1 stànār idovdans...  \n",
       "488  rva bànka   òris ȕjāk ubrov da tròmjesēčje stò...  \n",
       "489  ȍbjava biòlog ord au reàkcija krìtika Hẕvātskā...  \n",
       "\n",
       "[490 rows x 5 columns]"
      ]
     },
     "execution_count": 275,
     "metadata": {},
     "output_type": "execute_result"
    }
   ],
   "source": [
    "data"
   ]
  },
  {
   "cell_type": "code",
   "execution_count": 276,
   "id": "9ec290a9",
   "metadata": {},
   "outputs": [
    {
     "data": {
      "text/plain": [
       "490"
      ]
     },
     "execution_count": 276,
     "metadata": {},
     "output_type": "execute_result"
    }
   ],
   "source": [
    "len(data)"
   ]
  },
  {
   "cell_type": "code",
   "execution_count": 277,
   "id": "2876abb6",
   "metadata": {
    "scrolled": true
   },
   "outputs": [],
   "source": [
    "#index\n",
    "A = data['modified'].apply(lambda row: text_features_extractor(row)).values.tolist()\n",
    "A = np.transpose(A)\n",
    "# print(A)"
   ]
  },
  {
   "cell_type": "code",
   "execution_count": 278,
   "id": "d500de40",
   "metadata": {},
   "outputs": [
    {
     "name": "stdout",
     "output_type": "stream",
     "text": [
      "(10224, 490)\n"
     ]
    }
   ],
   "source": [
    "A = np.array(A)\n",
    "print(A.shape)"
   ]
  },
  {
   "cell_type": "code",
   "execution_count": 279,
   "id": "7372a91a",
   "metadata": {},
   "outputs": [],
   "source": [
    "# filtracija A, izbacivanje rijetkih i cestih rijeci\n",
    "df = pd.DataFrame(A)\n",
    "df2 = df.applymap(lambda x: 1 if x != 0 else 0)\n",
    "counts = list(df2.apply(lambda x: sum(x) / len(labels), axis=1))\n",
    "selected = [low < count < high for count in counts]\n",
    "df['words'] = dictionary\n",
    "df = df.loc[selected, :]\n",
    "wordsmap = df['words']\n",
    "wordsmap = wordsmap.reset_index()\n",
    "df = df.drop(['words'], axis = 1)\n",
    "A = df.to_numpy()\n",
    "#print(A)"
   ]
  },
  {
   "cell_type": "code",
   "execution_count": 280,
   "id": "c684c990",
   "metadata": {},
   "outputs": [
    {
     "data": {
      "text/html": [
       "<div>\n",
       "<style scoped>\n",
       "    .dataframe tbody tr th:only-of-type {\n",
       "        vertical-align: middle;\n",
       "    }\n",
       "\n",
       "    .dataframe tbody tr th {\n",
       "        vertical-align: top;\n",
       "    }\n",
       "\n",
       "    .dataframe thead th {\n",
       "        text-align: right;\n",
       "    }\n",
       "</style>\n",
       "<table border=\"1\" class=\"dataframe\">\n",
       "  <thead>\n",
       "    <tr style=\"text-align: right;\">\n",
       "      <th></th>\n",
       "      <th>index</th>\n",
       "      <th>words</th>\n",
       "    </tr>\n",
       "  </thead>\n",
       "  <tbody>\n",
       "    <tr>\n",
       "      <th>0</th>\n",
       "      <td>0</td>\n",
       "      <td>kampànja</td>\n",
       "    </tr>\n",
       "    <tr>\n",
       "      <th>1</th>\n",
       "      <td>2</td>\n",
       "      <td>vȅčēr</td>\n",
       "    </tr>\n",
       "    <tr>\n",
       "      <th>2</th>\n",
       "      <td>5</td>\n",
       "      <td>násīlje</td>\n",
       "    </tr>\n",
       "    <tr>\n",
       "      <th>3</th>\n",
       "      <td>6</td>\n",
       "      <td>ȁs1</td>\n",
       "    </tr>\n",
       "    <tr>\n",
       "      <th>4</th>\n",
       "      <td>7</td>\n",
       "      <td>bòja</td>\n",
       "    </tr>\n",
       "    <tr>\n",
       "      <th>...</th>\n",
       "      <td>...</td>\n",
       "      <td>...</td>\n",
       "    </tr>\n",
       "    <tr>\n",
       "      <th>1748</th>\n",
       "      <td>8559</td>\n",
       "      <td>rȕpa</td>\n",
       "    </tr>\n",
       "    <tr>\n",
       "      <th>1749</th>\n",
       "      <td>8571</td>\n",
       "      <td>čimpànza</td>\n",
       "    </tr>\n",
       "    <tr>\n",
       "      <th>1750</th>\n",
       "      <td>8684</td>\n",
       "      <td>vatrogásac</td>\n",
       "    </tr>\n",
       "    <tr>\n",
       "      <th>1751</th>\n",
       "      <td>8729</td>\n",
       "      <td>popuš</td>\n",
       "    </tr>\n",
       "    <tr>\n",
       "      <th>1752</th>\n",
       "      <td>9415</td>\n",
       "      <td>rázmjer</td>\n",
       "    </tr>\n",
       "  </tbody>\n",
       "</table>\n",
       "<p>1753 rows × 2 columns</p>\n",
       "</div>"
      ],
      "text/plain": [
       "      index       words\n",
       "0         0    kampànja\n",
       "1         2       vȅčēr\n",
       "2         5     násīlje\n",
       "3         6         ȁs1\n",
       "4         7        bòja\n",
       "...     ...         ...\n",
       "1748   8559        rȕpa\n",
       "1749   8571    čimpànza\n",
       "1750   8684  vatrogásac\n",
       "1751   8729       popuš\n",
       "1752   9415     rázmjer\n",
       "\n",
       "[1753 rows x 2 columns]"
      ]
     },
     "execution_count": 280,
     "metadata": {},
     "output_type": "execute_result"
    }
   ],
   "source": [
    "wordsmap"
   ]
  },
  {
   "cell_type": "code",
   "execution_count": 281,
   "id": "fb33a03c",
   "metadata": {},
   "outputs": [
    {
     "name": "stdout",
     "output_type": "stream",
     "text": [
      "(1753, 490)\n"
     ]
    }
   ],
   "source": [
    "print(A.shape)"
   ]
  },
  {
   "cell_type": "code",
   "execution_count": 302,
   "id": "c7cf2bdb",
   "metadata": {},
   "outputs": [],
   "source": [
    "D1_diag = np.sum(A, axis=1)\n",
    "D1 = np.diag(D1_diag)"
   ]
  },
  {
   "cell_type": "code",
   "execution_count": 303,
   "id": "3c81237d",
   "metadata": {},
   "outputs": [],
   "source": [
    "D2_diag = np.sum(A, axis=0)\n",
    "D2 = np.diag(D2_diag)"
   ]
  },
  {
   "cell_type": "code",
   "execution_count": 304,
   "id": "931fa9df",
   "metadata": {},
   "outputs": [],
   "source": [
    "D1_inv = np.diag(list(map(lambda x: 0 if x == 0 else 1/(np.sqrt(x)), D1_diag)))\n",
    "D2_inv = np.diag(list(map(lambda x: 0 if x == 0 else 1/(np.sqrt(x)), D2_diag)))"
   ]
  },
  {
   "cell_type": "code",
   "execution_count": 305,
   "id": "cc3fa033",
   "metadata": {},
   "outputs": [],
   "source": [
    "An = D1_inv @ A @ D2_inv"
   ]
  },
  {
   "cell_type": "code",
   "execution_count": 306,
   "id": "4669f423",
   "metadata": {},
   "outputs": [],
   "source": [
    "u, s, vt = np.linalg.svd(An)\n",
    "v = np.transpose(vt)"
   ]
  },
  {
   "cell_type": "code",
   "execution_count": 307,
   "id": "dc233977",
   "metadata": {},
   "outputs": [
    {
     "name": "stdout",
     "output_type": "stream",
     "text": [
      "(1753, 2)\n",
      "(490, 2)\n"
     ]
    }
   ],
   "source": [
    "U = u[:, 1:(1+l)]\n",
    "V = v[:, 1:(1+l)]\n",
    "print(U.shape)\n",
    "print(V.shape)"
   ]
  },
  {
   "cell_type": "code",
   "execution_count": 308,
   "id": "e75d886e",
   "metadata": {},
   "outputs": [],
   "source": [
    "Z = np.block([[D1_inv @ U], [D2_inv @ V]])"
   ]
  },
  {
   "cell_type": "code",
   "execution_count": 309,
   "id": "cbcdd7a8",
   "metadata": {},
   "outputs": [],
   "source": [
    "kmeans = KMeans(init=\"random\", n_clusters=k, n_init=10, max_iter=300, random_state=42)\n",
    "kmeans.fit(Z)\n",
    "predictions = kmeans.predict(Z)"
   ]
  },
  {
   "cell_type": "code",
   "execution_count": 310,
   "id": "fabd81ab",
   "metadata": {},
   "outputs": [
    {
     "name": "stdout",
     "output_type": "stream",
     "text": [
      "   magazin  sport  vijesti\n",
      "0       16    176        0\n",
      "1       92      5      160\n",
      "2        1      3       37\n"
     ]
    }
   ],
   "source": [
    "table = np.zeros((k, num_labels), dtype='int')\n",
    "table = pd.DataFrame(table, columns=labels_head)\n",
    "\n",
    "\n",
    "for i, pred in enumerate(predictions[-num_articles:]):\n",
    "    label = labels.iloc[i]\n",
    "#     print(\"{}-{}\".format(pred, label))\n",
    "    table[label][pred] += 1\n",
    "print(table)"
   ]
  },
  {
   "cell_type": "code",
   "execution_count": 311,
   "id": "a3e8cd0d",
   "metadata": {},
   "outputs": [],
   "source": [
    "predictions_words = predictions[0:-num_articles]\n",
    "predictions_docs = predictions[-num_articles:]"
   ]
  },
  {
   "cell_type": "code",
   "execution_count": 312,
   "id": "bc46bdb7",
   "metadata": {},
   "outputs": [
    {
     "name": "stdout",
     "output_type": "stream",
     "text": [
      "klaster 0\n",
      "      index           words\n",
      "159     373  reprezentácija\n",
      "1321   4505             mȅč\n",
      "1364   4650          tréner\n",
      "1057   2946           pẕvāk\n",
      "349     738            èuro\n",
      "1398   4758           arcel\n",
      "1329   4530           mòmče\n",
      "858    2144         mèdalja\n",
      "540    1175              am\n",
      "981    2556          tùrnīr\n",
      "klaster 1\n",
      "      index     words\n",
      "429     901      kúna\n",
      "267     581    tvȑtka\n",
      "682    1592        rb\n",
      "1438   4887  polìcija\n",
      "660    1542    dijéte\n",
      "419     882    cijéna\n",
      "539    1174         –\n",
      "4         7      bòja\n",
      "630    1481     nòvac\n",
      "290     621      žèna\n",
      "klaster 2\n",
      "      index      words\n",
      "1185   3523    cjȅpīvo\n",
      "860    2146       dóza\n",
      "347     731   cijeplje\n",
      "1117   3181        cov\n",
      "1497   5223      vírus\n",
      "614    1411  varìjanta\n",
      "1646   6898      dȅlta\n",
      "725    1708     bȍlēst\n",
      "956    2467      ritan\n",
      "845    2091  infèkcija\n"
     ]
    }
   ],
   "source": [
    "for i in range(k):\n",
    "    print('klaster {}'.format(i))\n",
    "    selected = predictions_docs == i\n",
    "    B = pd.DataFrame(A)\n",
    "    B = B.iloc[:, selected]\n",
    "    B['weight'] = B.sum(axis = 1, skipna = True)\n",
    "    B_sorted = B.sort_values(by='weight', ascending=False)\n",
    "    print(wordsmap.iloc[B_sorted.index[0:10]])"
   ]
  },
  {
   "cell_type": "code",
   "execution_count": 248,
   "id": "ee5e84e9",
   "metadata": {},
   "outputs": [
    {
     "data": {
      "text/html": [
       "<div>\n",
       "<style scoped>\n",
       "    .dataframe tbody tr th:only-of-type {\n",
       "        vertical-align: middle;\n",
       "    }\n",
       "\n",
       "    .dataframe tbody tr th {\n",
       "        vertical-align: top;\n",
       "    }\n",
       "\n",
       "    .dataframe thead th {\n",
       "        text-align: right;\n",
       "    }\n",
       "</style>\n",
       "<table border=\"1\" class=\"dataframe\">\n",
       "  <thead>\n",
       "    <tr style=\"text-align: right;\">\n",
       "      <th></th>\n",
       "      <th>index</th>\n",
       "      <th>words</th>\n",
       "    </tr>\n",
       "  </thead>\n",
       "  <tbody>\n",
       "    <tr>\n",
       "      <th>1185</th>\n",
       "      <td>3523</td>\n",
       "      <td>cjȅpīvo</td>\n",
       "    </tr>\n",
       "    <tr>\n",
       "      <th>860</th>\n",
       "      <td>2146</td>\n",
       "      <td>dóza</td>\n",
       "    </tr>\n",
       "    <tr>\n",
       "      <th>347</th>\n",
       "      <td>731</td>\n",
       "      <td>cijeplje</td>\n",
       "    </tr>\n",
       "    <tr>\n",
       "      <th>429</th>\n",
       "      <td>901</td>\n",
       "      <td>kúna</td>\n",
       "    </tr>\n",
       "    <tr>\n",
       "      <th>349</th>\n",
       "      <td>738</td>\n",
       "      <td>èuro</td>\n",
       "    </tr>\n",
       "    <tr>\n",
       "      <th>682</th>\n",
       "      <td>1592</td>\n",
       "      <td>rb</td>\n",
       "    </tr>\n",
       "    <tr>\n",
       "      <th>267</th>\n",
       "      <td>581</td>\n",
       "      <td>tvȑtka</td>\n",
       "    </tr>\n",
       "    <tr>\n",
       "      <th>1117</th>\n",
       "      <td>3181</td>\n",
       "      <td>cov</td>\n",
       "    </tr>\n",
       "    <tr>\n",
       "      <th>343</th>\n",
       "      <td>727</td>\n",
       "      <td>mjȅra</td>\n",
       "    </tr>\n",
       "    <tr>\n",
       "      <th>539</th>\n",
       "      <td>1174</td>\n",
       "      <td>–</td>\n",
       "    </tr>\n",
       "  </tbody>\n",
       "</table>\n",
       "</div>"
      ],
      "text/plain": [
       "      index     words\n",
       "1185   3523   cjȅpīvo\n",
       "860    2146      dóza\n",
       "347     731  cijeplje\n",
       "429     901      kúna\n",
       "349     738      èuro\n",
       "682    1592        rb\n",
       "267     581    tvȑtka\n",
       "1117   3181       cov\n",
       "343     727     mjȅra\n",
       "539    1174         –"
      ]
     },
     "execution_count": 248,
     "metadata": {},
     "output_type": "execute_result"
    }
   ],
   "source": [
    "B = pd.DataFrame(A)\n",
    "B=B.drop(B.columns[predictions_docs==0], axis = 1)\n",
    "B['weight'] = B.sum(axis = 1, skipna = True)\n",
    "B_sorted = B.sort_values(by='weight', ascending=False)\n",
    "wordsmap.iloc[B_sorted.index[0:10]]"
   ]
  },
  {
   "cell_type": "code",
   "execution_count": 30,
   "id": "efec65fb",
   "metadata": {},
   "outputs": [
    {
     "data": {
      "text/plain": [
       "array([0, 1, 0, 0, 0, 0, 0, 0, 1, 1, 0, 0, 1, 1, 1, 0, 0, 0, 1, 0, 0, 0,\n",
       "       0, 0, 0, 0, 1, 0, 1, 0, 0, 0, 0, 0, 0, 0, 0, 0, 0, 0, 1, 1, 1, 1,\n",
       "       0, 0, 0, 0, 0, 0, 1, 1, 1, 0, 1, 0, 1, 0, 0, 0, 1, 0, 0, 0, 0, 1,\n",
       "       1, 0, 1, 1, 0, 0, 1, 0, 0, 0, 1, 0, 0, 0, 1, 0, 0, 1, 1, 0, 0, 1,\n",
       "       1, 0, 1, 0, 0, 0, 0, 0, 1, 0, 0, 1, 0, 1, 1, 1, 1, 1, 1, 0, 1, 0,\n",
       "       1, 1, 0, 1, 0, 0, 0, 1, 1, 0, 1, 1, 1, 0, 0, 0, 0, 0, 0, 0, 0, 0,\n",
       "       0, 0, 1, 1, 0, 0, 1, 0, 0, 0, 1, 1, 1, 0, 0, 1, 0, 1, 0, 1, 1, 1,\n",
       "       1, 1, 1, 1, 0, 1, 0, 0, 1, 1, 0, 1, 1, 1, 1, 1, 1, 1, 0, 1, 1, 1,\n",
       "       1, 1, 0, 0, 1, 1, 1, 1, 1, 1, 1, 0, 0, 0, 0, 1, 0, 0, 1, 0, 1, 0,\n",
       "       1, 1, 1, 0, 0, 1, 0, 1, 1, 1, 1, 1, 1, 1, 1, 1, 1, 1, 0, 0, 0, 0,\n",
       "       1, 0, 1, 1, 1, 1, 1, 1, 1, 1, 0, 1, 1, 0, 1, 1, 1, 1, 1, 1, 1, 1,\n",
       "       1, 1, 1, 1, 1, 1, 1, 1, 1, 1, 1, 1, 1, 1, 1, 1, 1, 1, 1, 1, 1, 1,\n",
       "       1, 1, 1, 1])"
      ]
     },
     "execution_count": 30,
     "metadata": {},
     "output_type": "execute_result"
    }
   ],
   "source": [
    "predictions_words"
   ]
  },
  {
   "cell_type": "code",
   "execution_count": 31,
   "id": "7d3cb5b7",
   "metadata": {},
   "outputs": [
    {
     "data": {
      "text/plain": [
       "array([0, 0, 0, 0, 0, 0, 0, 0, 0, 0, 0, 0, 0, 0, 0, 0, 0, 0, 0, 0, 0, 0,\n",
       "       0, 0, 0, 0, 0, 0, 0, 0, 0, 0, 0, 0, 0, 0, 0, 0, 0, 0, 0, 0, 0, 0,\n",
       "       0, 0, 0, 0, 0, 0, 0, 0, 0, 0, 0, 0, 0, 0, 0, 0, 0, 0, 0, 0, 0, 0,\n",
       "       0, 0, 0, 0, 0, 0, 0, 0, 0, 0, 0, 0, 0, 0, 0, 0, 0, 0, 0, 0, 0, 0,\n",
       "       0, 0, 0, 0, 0, 0, 0, 0, 0, 0, 0, 0, 0, 0, 0, 0, 0, 0, 0, 0, 0, 0,\n",
       "       0, 0, 0, 0, 0, 0, 0, 0, 0, 0, 0, 0, 0, 0, 0, 0, 0, 0, 0, 0, 0, 0,\n",
       "       0, 0, 0, 0, 0, 0, 0, 0, 0, 0, 0, 0, 0, 0, 0, 0, 0, 0, 0, 0, 0, 0,\n",
       "       0, 0, 0, 0, 0, 0, 0, 0, 0, 0, 0, 0, 0, 0, 0, 0, 0, 0, 0, 0, 0, 0,\n",
       "       0, 0, 0, 0, 0, 0, 0, 0, 0, 0, 0, 0, 0, 0, 0, 0, 0, 0, 0, 0, 0, 0,\n",
       "       0, 0, 0, 0, 0, 0, 0, 0, 0, 0, 0, 0, 0, 0, 0, 0, 0, 0, 0, 0, 0, 0,\n",
       "       0, 0, 0, 0, 0, 0, 0, 0, 0, 0, 0, 0, 0, 0, 0, 0, 0, 0, 0, 0, 0, 0,\n",
       "       0, 0, 0, 0, 0, 0, 0, 0, 0, 0, 0, 0, 0, 0, 0, 0, 0, 0, 0, 0, 0, 0,\n",
       "       0, 0, 0, 0, 0, 0, 0, 0, 0, 0, 0, 0, 0, 0, 0, 0, 0, 0, 0, 0, 0, 0,\n",
       "       0, 0, 0, 0, 0, 0, 0, 0, 0, 0, 0, 0, 0, 0, 0, 0, 0, 0, 0, 0, 0, 0,\n",
       "       0, 0, 0, 0, 1, 0, 0, 0, 0, 0, 0, 0, 0, 0, 0, 0, 0, 0, 0, 0, 0, 0,\n",
       "       0, 0, 0, 0, 1, 0, 0, 0, 0, 0, 0, 0, 0, 0, 0, 0, 0, 0, 0, 0, 0, 0,\n",
       "       0, 0, 0, 0, 0, 0, 0, 0, 0, 0, 1, 0, 0, 1, 0, 0, 0, 0, 0, 0, 0, 0,\n",
       "       0, 0, 0, 0, 0, 1, 0, 1, 0, 0, 0, 1, 0, 0, 0, 0, 0, 0, 0, 0, 1, 0,\n",
       "       0, 0, 0, 0, 0, 0, 0, 0, 1, 0, 0, 1, 0, 0, 0, 0, 1, 0, 1, 0, 0, 1,\n",
       "       0, 0, 0, 0, 0, 0, 0, 0, 0, 0, 1, 0, 0, 0, 0, 0, 0, 1, 0, 1, 0, 0,\n",
       "       0, 0, 0, 0, 0, 0, 0, 0, 0, 0, 1, 0, 0, 0, 0, 0, 0, 0, 0, 0, 1, 0,\n",
       "       0, 0, 0, 1, 0, 0, 1, 0, 0, 0, 0, 0, 0, 0, 0, 0, 0, 0, 0, 0, 0, 0,\n",
       "       0, 0, 0, 0, 0, 0, 0, 1, 0, 0, 0, 0, 0, 0, 0, 0, 1, 1, 1, 1, 1, 1,\n",
       "       1, 1, 1, 1, 1, 1, 1, 1, 1, 1, 1, 1, 1, 1, 1, 1, 1, 1, 1, 1, 1, 1,\n",
       "       1, 1, 1, 1, 1, 1, 1, 1, 1, 1, 1, 1, 1, 1, 1, 1, 1, 1, 1, 1, 1, 1,\n",
       "       1, 1, 1, 1, 1, 1, 1, 1, 1, 1, 1, 1, 1, 1, 1, 1, 1, 1, 1, 1, 1, 1,\n",
       "       1, 1, 1, 1, 1, 1, 1, 1, 1, 1, 1, 1, 1, 1, 1, 1, 1, 1, 1, 1, 1, 1,\n",
       "       1, 1, 1, 1, 1, 1, 1, 1, 1, 1, 1, 1, 1, 1, 1, 1, 1, 1, 1, 1, 1, 1,\n",
       "       1, 1, 1, 1, 0, 1, 1, 1, 1, 1, 1, 1, 1, 1, 1, 1, 1, 1, 1, 1, 1, 1,\n",
       "       1, 1, 1, 1, 1, 1, 1, 1, 1, 1, 1, 1, 1, 1, 1, 1, 1, 1, 1, 1, 1, 1,\n",
       "       1, 1, 1, 1, 1, 1, 1, 1, 1, 1, 1, 1, 1, 1, 1, 1, 1, 1, 1, 1, 1, 1,\n",
       "       1, 0, 1, 1, 1, 1, 1, 1, 1, 1, 1, 1, 1, 1, 1, 1, 1, 1, 1, 1, 1, 1,\n",
       "       1, 1, 1, 1, 1, 1, 1, 1, 1, 1, 1, 1, 1, 1, 1, 1, 1, 1, 1, 0, 1, 1,\n",
       "       1, 1, 1, 1, 1, 1, 1, 1, 1, 1, 1, 1, 1, 1, 1, 1, 1, 1, 1, 1, 1, 1,\n",
       "       1, 1, 1, 1, 1, 1, 1, 1, 1, 1, 1, 1, 1, 1, 1, 1, 1, 1, 1, 1, 1, 1,\n",
       "       1, 1, 1, 1, 1, 1, 1, 1, 1, 1, 1, 1, 1, 1, 1, 1, 1, 1, 1, 1, 1, 1,\n",
       "       1, 1, 1, 1, 1, 1, 1, 1, 1, 1, 1, 1, 1, 1, 1, 1, 1, 1, 1, 1, 1, 1,\n",
       "       1, 1, 1, 1, 1, 1, 1, 1, 1, 1, 1, 1, 1, 1, 1, 1, 1, 1, 1, 1, 1, 1,\n",
       "       1, 1, 1, 1, 1, 1, 1, 1, 1, 1, 1, 1, 1, 1, 1, 1, 1, 1, 1, 1, 1, 1,\n",
       "       1, 1, 1, 1, 1, 1, 1, 1, 1, 1, 1, 1, 1, 1, 1, 1, 1, 1, 1, 1, 1, 1,\n",
       "       1, 1, 1, 1, 1, 1, 1, 1, 1, 1, 1, 1, 1, 1, 1, 1, 1, 1, 1, 1, 1, 1,\n",
       "       1, 1, 1, 1, 1, 1, 1, 1, 1, 1, 1, 1, 1, 1, 1, 1, 1, 1, 1, 1, 1, 1,\n",
       "       1, 0, 1, 1, 1, 1, 1, 1, 1, 1, 1, 1, 1, 1, 1, 1, 1, 1, 1, 1, 1, 1,\n",
       "       1, 1, 1, 1, 1, 1, 1, 1, 1, 1, 1, 1, 1, 1, 1, 1, 1, 1, 1, 1, 1, 1,\n",
       "       1, 1, 1, 1, 1, 1, 1, 1, 1, 1, 1, 1, 1, 1, 1, 1, 1, 1, 1, 1, 1, 1,\n",
       "       1, 1, 1, 1, 1, 1, 1, 1, 1, 1])"
      ]
     },
     "execution_count": 31,
     "metadata": {},
     "output_type": "execute_result"
    }
   ],
   "source": [
    "predictions_docs"
   ]
  },
  {
   "cell_type": "code",
   "execution_count": null,
   "id": "ff4e4c12",
   "metadata": {},
   "outputs": [],
   "source": []
  },
  {
   "cell_type": "code",
   "execution_count": 313,
   "id": "456e9f0a",
   "metadata": {},
   "outputs": [
    {
     "data": {
      "text/plain": [
       "490"
      ]
     },
     "execution_count": 313,
     "metadata": {},
     "output_type": "execute_result"
    }
   ],
   "source": [
    "num_articles"
   ]
  },
  {
   "cell_type": "code",
   "execution_count": null,
   "id": "bcf8d169",
   "metadata": {},
   "outputs": [],
   "source": []
  }
 ],
 "metadata": {
  "kernelspec": {
   "display_name": "Python 3 (ipykernel)",
   "language": "python",
   "name": "python3"
  },
  "language_info": {
   "codemirror_mode": {
    "name": "ipython",
    "version": 3
   },
   "file_extension": ".py",
   "mimetype": "text/x-python",
   "name": "python",
   "nbconvert_exporter": "python",
   "pygments_lexer": "ipython3",
   "version": "3.7.9"
  }
 },
 "nbformat": 4,
 "nbformat_minor": 5
}
